{
 "cells": [
  {
   "cell_type": "markdown",
   "id": "7380dc8a",
   "metadata": {},
   "source": [
    "## Audience Rating using Rotten Tomatoes Movie review Data"
   ]
  },
  {
   "cell_type": "markdown",
   "id": "187cfc76",
   "metadata": {},
   "source": [
    "### Problem Statement:\n",
    "\n",
    "* In this project,Demonstrated the accuracy of the audience rating system using available movie data. The dataset includes several attributes such as movie title, movie info, rating, genre, directors, writers, cast, in-theaters date, on-streaming date, runtime, and studio name, among others. With columns like tomatometer rating, audience rating, and critics consensus, discrepancies between critic and audience opinions often arise.\n",
    "* The project will explore the relationship between movie attributes (like genre, cast, and runtime) and the audience's perception, helping to understand how these factors affect ratings and proposing strategies to address biases and improve overall accuracy."
   ]
  },
  {
   "cell_type": "markdown",
   "id": "178413dc",
   "metadata": {},
   "source": [
    "### Attribute Information :\n",
    "\n",
    "1. <span style = \"color: Black; font-weight:Bold\">movie_title:</span> The title of the movie.\n",
    "\n",
    "2. <span style = \"color: Black; font-weight:Bold\">movie_info::</span>movie_info: Brief description or summary of the movie.\n",
    "\n",
    "3. <span style = \"color: Black; font-weight:Bold\">critics_consensus:</span>critics_consensus: A summary or consensus of the critics’ reviews.\n",
    "\n",
    "\n",
    "4. <span style = \"color: Black; font-weight:Bold\">rating:</span> rating: The age rating of the movie \n",
    "\n",
    "5. <span style = \"color: Black; font-weight:Bold\">movie_title:</span>genre: The genre or categories the movie belongs to story\n",
    "\n",
    "6. <span style = \"color: Black; font-weight:Bold\">directors:</span> directors: The names of the directors of the movie.\n",
    "\n",
    "7. <span style = \"color: Black; font-weight:Bold\">writers:</span> writers: The names of the writers of the movie.\n",
    "\n",
    "8. <span style = \"color: Black; font-weight:Bold\">cast: </span>cast: The list of actors or cast members in the movie.\n",
    "\n",
    "9. <span style = \"color: Black; font-weight:Bold\">in_theaters_date:</span>in_theaters_date: The date the movie was released in theaters.\n",
    "\n",
    "10. <span style = \"color: Black; font-weight:Bold\">on_streaming_date:</span> on_streaming_date: The date the movie was made available for streaming.\n",
    "\n",
    "11. <span style = \"color: Black; font-weight:Bold\">runtime_in_minutes:</span>runtime_in_minutes: The total duration of the movie in minutes.\n",
    "\n",
    "12. <span style = \"color: Black; font-weight:Bold\">studio_name:</span> studio_name: The name of the studio that produced the movie.\n",
    "\n",
    "13. <span style = \"color: Black; font-weight:Bold\">tomatometer_status:</span> tomatometer_status: Indicates the overall status of the movie on Rotten Tomatoes \n",
    "\n",
    "14. <span style = \"color: Black; font-weight:Bold\">tomatometer_rating:</span> tomatometer_rating: The percentage score given by critics based on their reviews.\n",
    "\n",
    "15. <span style = \"color: Black; font-weight:Bold\">tomatometer_count:</span> tomatometer_count: The number of critic reviews that contributed to the Tomatometer rating.\n",
    "\n",
    "16. <span style = \"color: Black; font-weight:Bold\">audience_rating:</span>audience_rating: The percentage score given by the audience based on their reviews."
   ]
  },
  {
   "cell_type": "markdown",
   "id": "4dac52f6",
   "metadata": {},
   "source": [
    "#### Importing Basic Libraries"
   ]
  },
  {
   "cell_type": "code",
   "execution_count": 1,
   "id": "c71b275a",
   "metadata": {},
   "outputs": [],
   "source": [
    "import numpy as np\n",
    "import pandas as pd\n",
    "\n",
    "import seaborn as sns\n",
    "import matplotlib.pyplot as plt\n",
    "\n",
    "import warnings\n",
    "warnings.filterwarnings('ignore')\n"
   ]
  },
  {
   "cell_type": "code",
   "execution_count": 2,
   "id": "0ef8e0de",
   "metadata": {},
   "outputs": [],
   "source": [
    "#for colab\n",
    "#from google.colab import drive\n",
    "#drive.mount('/content/drive')\n",
    "#file_path = '/content/drive/My Drive/My projects/Zoho-project/Rotten_Tomatoes_Movies3.xls'\n",
    "#data=pd.read_excel(file_path)\n",
    "#data"
   ]
  },
  {
   "cell_type": "code",
   "execution_count": 4,
   "id": "d94dc65b",
   "metadata": {},
   "outputs": [
    {
     "ename": "NameError",
     "evalue": "name 'pd' is not defined",
     "output_type": "error",
     "traceback": [
      "\u001b[1;31m---------------------------------------------------------------------------\u001b[0m",
      "\u001b[1;31mNameError\u001b[0m                                 Traceback (most recent call last)",
      "Cell \u001b[1;32mIn[4], line 1\u001b[0m\n\u001b[1;32m----> 1\u001b[0m data\u001b[38;5;241m=\u001b[39mpd\u001b[38;5;241m.\u001b[39mread_excel(\u001b[38;5;124m'\u001b[39m\u001b[38;5;124mRotten_Tomatoes_Movies3.xls\u001b[39m\u001b[38;5;124m'\u001b[39m)\n",
      "\u001b[1;31mNameError\u001b[0m: name 'pd' is not defined"
     ]
    }
   ],
   "source": [
    "\n",
    "data=pd.read_excel('Rotten_Tomatoes_Movies3.xls')"
   ]
  },
  {
   "cell_type": "code",
   "execution_count": 4,
   "id": "1a776afa",
   "metadata": {},
   "outputs": [
    {
     "name": "stdout",
     "output_type": "stream",
     "text": [
      "<class 'pandas.core.frame.DataFrame'>\n",
      "RangeIndex: 16638 entries, 0 to 16637\n",
      "Data columns (total 16 columns):\n",
      " #   Column              Non-Null Count  Dtype         \n",
      "---  ------              --------------  -----         \n",
      " 0   movie_title         16638 non-null  object        \n",
      " 1   movie_info          16614 non-null  object        \n",
      " 2   critics_consensus   8309 non-null   object        \n",
      " 3   rating              16638 non-null  object        \n",
      " 4   genre               16621 non-null  object        \n",
      " 5   directors           16524 non-null  object        \n",
      " 6   writers             15289 non-null  object        \n",
      " 7   cast                16354 non-null  object        \n",
      " 8   in_theaters_date    15823 non-null  datetime64[ns]\n",
      " 9   on_streaming_date   16636 non-null  datetime64[ns]\n",
      " 10  runtime_in_minutes  16483 non-null  float64       \n",
      " 11  studio_name         16222 non-null  object        \n",
      " 12  tomatometer_status  16638 non-null  object        \n",
      " 13  tomatometer_rating  16638 non-null  int64         \n",
      " 14  tomatometer_count   16638 non-null  int64         \n",
      " 15  audience_rating     16386 non-null  float64       \n",
      "dtypes: datetime64[ns](2), float64(2), int64(2), object(10)\n",
      "memory usage: 2.0+ MB\n"
     ]
    }
   ],
   "source": [
    "#information of all Features\n",
    "data.info()"
   ]
  },
  {
   "cell_type": "code",
   "execution_count": 5,
   "id": "ce9192a2",
   "metadata": {},
   "outputs": [
    {
     "data": {
      "text/plain": [
       "movie_title              0\n",
       "movie_info              24\n",
       "critics_consensus     8329\n",
       "rating                   0\n",
       "genre                   17\n",
       "directors              114\n",
       "writers               1349\n",
       "cast                   284\n",
       "in_theaters_date       815\n",
       "on_streaming_date        2\n",
       "runtime_in_minutes     155\n",
       "studio_name            416\n",
       "tomatometer_status       0\n",
       "tomatometer_rating       0\n",
       "tomatometer_count        0\n",
       "audience_rating        252\n",
       "dtype: int64"
      ]
     },
     "execution_count": 5,
     "metadata": {},
     "output_type": "execute_result"
    }
   ],
   "source": [
    "# Checking for null\n",
    "data.isnull().sum()"
   ]
  },
  {
   "cell_type": "code",
   "execution_count": 6,
   "id": "749da285",
   "metadata": {},
   "outputs": [
    {
     "data": {
      "text/plain": [
       "(16638, 16)"
      ]
     },
     "execution_count": 6,
     "metadata": {},
     "output_type": "execute_result"
    }
   ],
   "source": [
    "data.shape"
   ]
  },
  {
   "cell_type": "code",
   "execution_count": 7,
   "id": "331dce88",
   "metadata": {},
   "outputs": [],
   "source": [
    "# Dropping 'critics_consensus' for cantains lot of null values \n",
    "data.drop('critics_consensus', axis=1, inplace=True)"
   ]
  },
  {
   "cell_type": "code",
   "execution_count": 8,
   "id": "5bf6ae0b",
   "metadata": {},
   "outputs": [],
   "source": [
    "# Feature Engineering (example)\n",
    "data['release_date'] = pd.to_datetime(data['in_theaters_date']).dt.day\n",
    "data['release_month'] = pd.to_datetime(data['in_theaters_date']).dt.month\n",
    "data['release_year'] = pd.to_datetime(data['in_theaters_date']).dt.year\n",
    "\n",
    "data['Streaming_date'] = pd.to_datetime(data['on_streaming_date']).dt.day\n",
    "data['Streaming_month'] = pd.to_datetime(data['on_streaming_date']).dt.month\n",
    "data['Streaming_year'] = pd.to_datetime(data['on_streaming_date']).dt.year\n",
    "\n",
    "data.drop(columns=['in_theaters_date'], inplace=True)\n",
    "data.drop(columns=['on_streaming_date'], inplace=True)\n"
   ]
  },
  {
   "cell_type": "code",
   "execution_count": 3,
   "id": "d7d7d1a8",
   "metadata": {},
   "outputs": [
    {
     "ename": "NameError",
     "evalue": "name 'data' is not defined",
     "output_type": "error",
     "traceback": [
      "\u001b[1;31m---------------------------------------------------------------------------\u001b[0m",
      "\u001b[1;31mNameError\u001b[0m                                 Traceback (most recent call last)",
      "Cell \u001b[1;32mIn[3], line 2\u001b[0m\n\u001b[0;32m      1\u001b[0m \u001b[38;5;66;03m#Dropping null values\u001b[39;00m\n\u001b[1;32m----> 2\u001b[0m data\u001b[38;5;241m.\u001b[39mdropna(axis\u001b[38;5;241m=\u001b[39m\u001b[38;5;241m0\u001b[39m, inplace\u001b[38;5;241m=\u001b[39m\u001b[38;5;28;01mTrue\u001b[39;00m)\n",
      "\u001b[1;31mNameError\u001b[0m: name 'data' is not defined"
     ]
    }
   ],
   "source": [
    "#Dropping null values\n",
    "data.dropna(axis=0, inplace=True)"
   ]
  },
  {
   "cell_type": "code",
   "execution_count": 10,
   "id": "d95e52c2",
   "metadata": {},
   "outputs": [
    {
     "data": {
      "text/plain": [
       "(14090, 19)"
      ]
     },
     "execution_count": 10,
     "metadata": {},
     "output_type": "execute_result"
    }
   ],
   "source": [
    "data.shape"
   ]
  },
  {
   "cell_type": "code",
   "execution_count": 11,
   "id": "4d3a4888",
   "metadata": {},
   "outputs": [
    {
     "data": {
      "text/plain": [
       "0"
      ]
     },
     "execution_count": 11,
     "metadata": {},
     "output_type": "execute_result"
    }
   ],
   "source": [
    "# finding Dublicate values\n",
    "data.duplicated().sum()"
   ]
  },
  {
   "cell_type": "code",
   "execution_count": 12,
   "id": "702e2af2",
   "metadata": {},
   "outputs": [
    {
     "data": {
      "text/plain": [
       "movie_title           0\n",
       "Streaming_date        0\n",
       "release_year          0\n",
       "release_month         0\n",
       "release_date          0\n",
       "audience_rating       0\n",
       "tomatometer_count     0\n",
       "tomatometer_rating    0\n",
       "Streaming_month       0\n",
       "tomatometer_status    0\n",
       "runtime_in_minutes    0\n",
       "cast                  0\n",
       "writers               0\n",
       "directors             0\n",
       "genre                 0\n",
       "rating                0\n",
       "movie_info            0\n",
       "studio_name           0\n",
       "Streaming_year        0\n",
       "dtype: int64"
      ]
     },
     "execution_count": 12,
     "metadata": {},
     "output_type": "execute_result"
    }
   ],
   "source": [
    "# Checking For Null Values\n",
    "data.isnull().sum().sort_values()"
   ]
  },
  {
   "cell_type": "code",
   "execution_count": 13,
   "id": "a35db68e",
   "metadata": {},
   "outputs": [
    {
     "data": {
      "text/html": [
       "<div>\n",
       "<style scoped>\n",
       "    .dataframe tbody tr th:only-of-type {\n",
       "        vertical-align: middle;\n",
       "    }\n",
       "\n",
       "    .dataframe tbody tr th {\n",
       "        vertical-align: top;\n",
       "    }\n",
       "\n",
       "    .dataframe thead th {\n",
       "        text-align: right;\n",
       "    }\n",
       "</style>\n",
       "<table border=\"1\" class=\"dataframe\">\n",
       "  <thead>\n",
       "    <tr style=\"text-align: right;\">\n",
       "      <th></th>\n",
       "      <th>movie_title</th>\n",
       "      <th>movie_info</th>\n",
       "      <th>rating</th>\n",
       "      <th>genre</th>\n",
       "      <th>directors</th>\n",
       "      <th>writers</th>\n",
       "      <th>cast</th>\n",
       "      <th>runtime_in_minutes</th>\n",
       "      <th>studio_name</th>\n",
       "      <th>tomatometer_status</th>\n",
       "      <th>tomatometer_rating</th>\n",
       "      <th>tomatometer_count</th>\n",
       "      <th>audience_rating</th>\n",
       "      <th>release_date</th>\n",
       "      <th>release_month</th>\n",
       "      <th>release_year</th>\n",
       "      <th>Streaming_date</th>\n",
       "      <th>Streaming_month</th>\n",
       "      <th>Streaming_year</th>\n",
       "    </tr>\n",
       "  </thead>\n",
       "  <tbody>\n",
       "    <tr>\n",
       "      <th>0</th>\n",
       "      <td>Percy Jackson &amp; the Olympians: The Lightning T...</td>\n",
       "      <td>A teenager discovers he's the descendant of a ...</td>\n",
       "      <td>PG</td>\n",
       "      <td>Action &amp; Adventure, Comedy, Drama, Science Fic...</td>\n",
       "      <td>Chris Columbus</td>\n",
       "      <td>Craig Titley</td>\n",
       "      <td>Logan Lerman, Brandon T. Jackson, Alexandra Da...</td>\n",
       "      <td>83.0</td>\n",
       "      <td>20th Century Fox</td>\n",
       "      <td>Rotten</td>\n",
       "      <td>49</td>\n",
       "      <td>144</td>\n",
       "      <td>53.0</td>\n",
       "      <td>12.0</td>\n",
       "      <td>2.0</td>\n",
       "      <td>2010.0</td>\n",
       "      <td>29.0</td>\n",
       "      <td>6.0</td>\n",
       "      <td>2010.0</td>\n",
       "    </tr>\n",
       "    <tr>\n",
       "      <th>1</th>\n",
       "      <td>Please Give</td>\n",
       "      <td>Kate has a lot on her mind. There's the ethics...</td>\n",
       "      <td>R</td>\n",
       "      <td>Comedy</td>\n",
       "      <td>Nicole Holofcener</td>\n",
       "      <td>Nicole Holofcener</td>\n",
       "      <td>Catherine Keener, Amanda Peet, Oliver Platt, R...</td>\n",
       "      <td>90.0</td>\n",
       "      <td>Sony Pictures Classics</td>\n",
       "      <td>Certified Fresh</td>\n",
       "      <td>86</td>\n",
       "      <td>140</td>\n",
       "      <td>64.0</td>\n",
       "      <td>30.0</td>\n",
       "      <td>4.0</td>\n",
       "      <td>2010.0</td>\n",
       "      <td>19.0</td>\n",
       "      <td>10.0</td>\n",
       "      <td>2010.0</td>\n",
       "    </tr>\n",
       "    <tr>\n",
       "      <th>2</th>\n",
       "      <td>10</td>\n",
       "      <td>Blake Edwards' 10 stars Dudley Moore as George...</td>\n",
       "      <td>R</td>\n",
       "      <td>Comedy, Romance</td>\n",
       "      <td>Blake Edwards</td>\n",
       "      <td>Blake Edwards</td>\n",
       "      <td>Dudley Moore, Bo Derek, Julie Andrews, Robert ...</td>\n",
       "      <td>118.0</td>\n",
       "      <td>Waner Bros.</td>\n",
       "      <td>Fresh</td>\n",
       "      <td>68</td>\n",
       "      <td>22</td>\n",
       "      <td>53.0</td>\n",
       "      <td>5.0</td>\n",
       "      <td>10.0</td>\n",
       "      <td>1979.0</td>\n",
       "      <td>27.0</td>\n",
       "      <td>8.0</td>\n",
       "      <td>1997.0</td>\n",
       "    </tr>\n",
       "    <tr>\n",
       "      <th>3</th>\n",
       "      <td>12 Angry Men (Twelve Angry Men)</td>\n",
       "      <td>A Puerto Rican youth is on trial for murder, a...</td>\n",
       "      <td>NR</td>\n",
       "      <td>Classics, Drama</td>\n",
       "      <td>Sidney Lumet</td>\n",
       "      <td>Reginald Rose</td>\n",
       "      <td>Martin Balsam, John Fiedler, Lee J. Cobb, E.G....</td>\n",
       "      <td>95.0</td>\n",
       "      <td>Criterion Collection</td>\n",
       "      <td>Certified Fresh</td>\n",
       "      <td>100</td>\n",
       "      <td>51</td>\n",
       "      <td>97.0</td>\n",
       "      <td>13.0</td>\n",
       "      <td>4.0</td>\n",
       "      <td>1957.0</td>\n",
       "      <td>6.0</td>\n",
       "      <td>3.0</td>\n",
       "      <td>2001.0</td>\n",
       "    </tr>\n",
       "    <tr>\n",
       "      <th>4</th>\n",
       "      <td>20,000 Leagues Under The Sea</td>\n",
       "      <td>This 1954 Disney version of Jules Verne's 20,0...</td>\n",
       "      <td>G</td>\n",
       "      <td>Action &amp; Adventure, Drama, Kids &amp; Family</td>\n",
       "      <td>Richard Fleischer</td>\n",
       "      <td>Earl Felton</td>\n",
       "      <td>James Mason, Kirk Douglas, Paul Lukas, Peter L...</td>\n",
       "      <td>127.0</td>\n",
       "      <td>Disney</td>\n",
       "      <td>Fresh</td>\n",
       "      <td>89</td>\n",
       "      <td>27</td>\n",
       "      <td>74.0</td>\n",
       "      <td>1.0</td>\n",
       "      <td>1.0</td>\n",
       "      <td>1954.0</td>\n",
       "      <td>20.0</td>\n",
       "      <td>5.0</td>\n",
       "      <td>2003.0</td>\n",
       "    </tr>\n",
       "    <tr>\n",
       "      <th>...</th>\n",
       "      <td>...</td>\n",
       "      <td>...</td>\n",
       "      <td>...</td>\n",
       "      <td>...</td>\n",
       "      <td>...</td>\n",
       "      <td>...</td>\n",
       "      <td>...</td>\n",
       "      <td>...</td>\n",
       "      <td>...</td>\n",
       "      <td>...</td>\n",
       "      <td>...</td>\n",
       "      <td>...</td>\n",
       "      <td>...</td>\n",
       "      <td>...</td>\n",
       "      <td>...</td>\n",
       "      <td>...</td>\n",
       "      <td>...</td>\n",
       "      <td>...</td>\n",
       "      <td>...</td>\n",
       "    </tr>\n",
       "    <tr>\n",
       "      <th>16632</th>\n",
       "      <td>Zoom</td>\n",
       "      <td>Former superhero Jack is called back to work t...</td>\n",
       "      <td>PG</td>\n",
       "      <td>Action &amp; Adventure, Comedy, Kids &amp; Family</td>\n",
       "      <td>Peter Hewitt</td>\n",
       "      <td>Adam Rifkin, David Berenbaum</td>\n",
       "      <td>Tim Allen, Courteney Cox, Chevy Chase, Spencer...</td>\n",
       "      <td>88.0</td>\n",
       "      <td>Sony Pictures Entertainment</td>\n",
       "      <td>Rotten</td>\n",
       "      <td>3</td>\n",
       "      <td>66</td>\n",
       "      <td>33.0</td>\n",
       "      <td>11.0</td>\n",
       "      <td>8.0</td>\n",
       "      <td>2006.0</td>\n",
       "      <td>2.0</td>\n",
       "      <td>9.0</td>\n",
       "      <td>2007.0</td>\n",
       "    </tr>\n",
       "    <tr>\n",
       "      <th>16633</th>\n",
       "      <td>Zoot Suit</td>\n",
       "      <td>Based on a 1940s Los Angeles murder trial, thi...</td>\n",
       "      <td>R</td>\n",
       "      <td>Drama, Musical &amp; Performing Arts</td>\n",
       "      <td>Luis Valdez</td>\n",
       "      <td>Luis Valdez</td>\n",
       "      <td>Daniel Valdez, Edward James Olmos, Charles Aid...</td>\n",
       "      <td>104.0</td>\n",
       "      <td>MCA Universal Home Video</td>\n",
       "      <td>Rotten</td>\n",
       "      <td>56</td>\n",
       "      <td>9</td>\n",
       "      <td>74.0</td>\n",
       "      <td>2.0</td>\n",
       "      <td>10.0</td>\n",
       "      <td>1981.0</td>\n",
       "      <td>27.0</td>\n",
       "      <td>5.0</td>\n",
       "      <td>2003.0</td>\n",
       "    </tr>\n",
       "    <tr>\n",
       "      <th>16634</th>\n",
       "      <td>Zootopia</td>\n",
       "      <td>The modern mammal metropolis of Zootopia is a ...</td>\n",
       "      <td>PG</td>\n",
       "      <td>Action &amp; Adventure, Animation, Comedy</td>\n",
       "      <td>Byron Howard, Rich Moore, Jared Bush</td>\n",
       "      <td>Jared Bush, Phil Johnston</td>\n",
       "      <td>Ginnifer Goodwin, Jason Bateman, Idris Elba, J...</td>\n",
       "      <td>108.0</td>\n",
       "      <td>Walt Disney Animation Studios</td>\n",
       "      <td>Certified Fresh</td>\n",
       "      <td>97</td>\n",
       "      <td>279</td>\n",
       "      <td>92.0</td>\n",
       "      <td>4.0</td>\n",
       "      <td>3.0</td>\n",
       "      <td>2016.0</td>\n",
       "      <td>7.0</td>\n",
       "      <td>6.0</td>\n",
       "      <td>2016.0</td>\n",
       "    </tr>\n",
       "    <tr>\n",
       "      <th>16636</th>\n",
       "      <td>Zulu</td>\n",
       "      <td>Filmed on a grand scale, Zulu is a rousing rec...</td>\n",
       "      <td>PG</td>\n",
       "      <td>Classics, Drama</td>\n",
       "      <td>Cy Endfield, Cyril Endfield</td>\n",
       "      <td>Cy Endfield, John Prebble</td>\n",
       "      <td>Stanley Baker, Jack Hawkins, Ulla Jacobsson, J...</td>\n",
       "      <td>139.0</td>\n",
       "      <td>Paramount Pictures</td>\n",
       "      <td>Fresh</td>\n",
       "      <td>95</td>\n",
       "      <td>21</td>\n",
       "      <td>91.0</td>\n",
       "      <td>17.0</td>\n",
       "      <td>6.0</td>\n",
       "      <td>1964.0</td>\n",
       "      <td>2.0</td>\n",
       "      <td>2.0</td>\n",
       "      <td>2001.0</td>\n",
       "    </tr>\n",
       "    <tr>\n",
       "      <th>16637</th>\n",
       "      <td>Zulu Dawn</td>\n",
       "      <td>A prequel to Zulu, Zulu Dawn depicts the event...</td>\n",
       "      <td>PG</td>\n",
       "      <td>Action &amp; Adventure, Art House &amp; International,...</td>\n",
       "      <td>Douglas Hickox</td>\n",
       "      <td>Cy Endfield, Anthony Storey</td>\n",
       "      <td>Burt Lancaster, Peter O'Toole, Simon Ward, Joh...</td>\n",
       "      <td>117.0</td>\n",
       "      <td>Tango Entertainment</td>\n",
       "      <td>Rotten</td>\n",
       "      <td>57</td>\n",
       "      <td>7</td>\n",
       "      <td>62.0</td>\n",
       "      <td>14.0</td>\n",
       "      <td>12.0</td>\n",
       "      <td>1979.0</td>\n",
       "      <td>27.0</td>\n",
       "      <td>9.0</td>\n",
       "      <td>2005.0</td>\n",
       "    </tr>\n",
       "  </tbody>\n",
       "</table>\n",
       "<p>14090 rows × 19 columns</p>\n",
       "</div>"
      ],
      "text/plain": [
       "                                             movie_title  \\\n",
       "0      Percy Jackson & the Olympians: The Lightning T...   \n",
       "1                                            Please Give   \n",
       "2                                                     10   \n",
       "3                        12 Angry Men (Twelve Angry Men)   \n",
       "4                           20,000 Leagues Under The Sea   \n",
       "...                                                  ...   \n",
       "16632                                               Zoom   \n",
       "16633                                          Zoot Suit   \n",
       "16634                                           Zootopia   \n",
       "16636                                               Zulu   \n",
       "16637                                          Zulu Dawn   \n",
       "\n",
       "                                              movie_info rating  \\\n",
       "0      A teenager discovers he's the descendant of a ...     PG   \n",
       "1      Kate has a lot on her mind. There's the ethics...      R   \n",
       "2      Blake Edwards' 10 stars Dudley Moore as George...      R   \n",
       "3      A Puerto Rican youth is on trial for murder, a...     NR   \n",
       "4      This 1954 Disney version of Jules Verne's 20,0...      G   \n",
       "...                                                  ...    ...   \n",
       "16632  Former superhero Jack is called back to work t...     PG   \n",
       "16633  Based on a 1940s Los Angeles murder trial, thi...      R   \n",
       "16634  The modern mammal metropolis of Zootopia is a ...     PG   \n",
       "16636  Filmed on a grand scale, Zulu is a rousing rec...     PG   \n",
       "16637  A prequel to Zulu, Zulu Dawn depicts the event...     PG   \n",
       "\n",
       "                                                   genre  \\\n",
       "0      Action & Adventure, Comedy, Drama, Science Fic...   \n",
       "1                                                 Comedy   \n",
       "2                                        Comedy, Romance   \n",
       "3                                        Classics, Drama   \n",
       "4               Action & Adventure, Drama, Kids & Family   \n",
       "...                                                  ...   \n",
       "16632          Action & Adventure, Comedy, Kids & Family   \n",
       "16633                   Drama, Musical & Performing Arts   \n",
       "16634              Action & Adventure, Animation, Comedy   \n",
       "16636                                    Classics, Drama   \n",
       "16637  Action & Adventure, Art House & International,...   \n",
       "\n",
       "                                  directors                       writers  \\\n",
       "0                            Chris Columbus                  Craig Titley   \n",
       "1                         Nicole Holofcener             Nicole Holofcener   \n",
       "2                             Blake Edwards                 Blake Edwards   \n",
       "3                              Sidney Lumet                 Reginald Rose   \n",
       "4                         Richard Fleischer                   Earl Felton   \n",
       "...                                     ...                           ...   \n",
       "16632                          Peter Hewitt  Adam Rifkin, David Berenbaum   \n",
       "16633                           Luis Valdez                   Luis Valdez   \n",
       "16634  Byron Howard, Rich Moore, Jared Bush     Jared Bush, Phil Johnston   \n",
       "16636           Cy Endfield, Cyril Endfield     Cy Endfield, John Prebble   \n",
       "16637                        Douglas Hickox   Cy Endfield, Anthony Storey   \n",
       "\n",
       "                                                    cast  runtime_in_minutes  \\\n",
       "0      Logan Lerman, Brandon T. Jackson, Alexandra Da...                83.0   \n",
       "1      Catherine Keener, Amanda Peet, Oliver Platt, R...                90.0   \n",
       "2      Dudley Moore, Bo Derek, Julie Andrews, Robert ...               118.0   \n",
       "3      Martin Balsam, John Fiedler, Lee J. Cobb, E.G....                95.0   \n",
       "4      James Mason, Kirk Douglas, Paul Lukas, Peter L...               127.0   \n",
       "...                                                  ...                 ...   \n",
       "16632  Tim Allen, Courteney Cox, Chevy Chase, Spencer...                88.0   \n",
       "16633  Daniel Valdez, Edward James Olmos, Charles Aid...               104.0   \n",
       "16634  Ginnifer Goodwin, Jason Bateman, Idris Elba, J...               108.0   \n",
       "16636  Stanley Baker, Jack Hawkins, Ulla Jacobsson, J...               139.0   \n",
       "16637  Burt Lancaster, Peter O'Toole, Simon Ward, Joh...               117.0   \n",
       "\n",
       "                         studio_name tomatometer_status  tomatometer_rating  \\\n",
       "0                   20th Century Fox             Rotten                  49   \n",
       "1             Sony Pictures Classics    Certified Fresh                  86   \n",
       "2                        Waner Bros.              Fresh                  68   \n",
       "3               Criterion Collection    Certified Fresh                 100   \n",
       "4                             Disney              Fresh                  89   \n",
       "...                              ...                ...                 ...   \n",
       "16632    Sony Pictures Entertainment             Rotten                   3   \n",
       "16633       MCA Universal Home Video             Rotten                  56   \n",
       "16634  Walt Disney Animation Studios    Certified Fresh                  97   \n",
       "16636             Paramount Pictures              Fresh                  95   \n",
       "16637            Tango Entertainment             Rotten                  57   \n",
       "\n",
       "       tomatometer_count  audience_rating  release_date  release_month  \\\n",
       "0                    144             53.0          12.0            2.0   \n",
       "1                    140             64.0          30.0            4.0   \n",
       "2                     22             53.0           5.0           10.0   \n",
       "3                     51             97.0          13.0            4.0   \n",
       "4                     27             74.0           1.0            1.0   \n",
       "...                  ...              ...           ...            ...   \n",
       "16632                 66             33.0          11.0            8.0   \n",
       "16633                  9             74.0           2.0           10.0   \n",
       "16634                279             92.0           4.0            3.0   \n",
       "16636                 21             91.0          17.0            6.0   \n",
       "16637                  7             62.0          14.0           12.0   \n",
       "\n",
       "       release_year  Streaming_date  Streaming_month  Streaming_year  \n",
       "0            2010.0            29.0              6.0          2010.0  \n",
       "1            2010.0            19.0             10.0          2010.0  \n",
       "2            1979.0            27.0              8.0          1997.0  \n",
       "3            1957.0             6.0              3.0          2001.0  \n",
       "4            1954.0            20.0              5.0          2003.0  \n",
       "...             ...             ...              ...             ...  \n",
       "16632        2006.0             2.0              9.0          2007.0  \n",
       "16633        1981.0            27.0              5.0          2003.0  \n",
       "16634        2016.0             7.0              6.0          2016.0  \n",
       "16636        1964.0             2.0              2.0          2001.0  \n",
       "16637        1979.0            27.0              9.0          2005.0  \n",
       "\n",
       "[14090 rows x 19 columns]"
      ]
     },
     "execution_count": 13,
     "metadata": {},
     "output_type": "execute_result"
    }
   ],
   "source": [
    "data"
   ]
  },
  {
   "cell_type": "markdown",
   "id": "f87a7cd2",
   "metadata": {},
   "source": [
    "## Exploratory Data anlaysis\n"
   ]
  },
  {
   "cell_type": "markdown",
   "id": "8ecc08e7",
   "metadata": {},
   "source": [
    "### Univariate Analysis\n",
    "\n",
    "Univariate analysis involves  <span style = \"color: Red; font-weight:bold\">analyzing a single column or feature</span>. The type of analysis depends on whether the column is categorical or numerical.\n",
    "- analysing a single column\n",
    "\n",
    "\n",
    "#### Categorical Columns in the data:\n",
    "\n",
    "- <span style = \"color: black; font-weight:bold\">Frequency Table: </span>To count the occurrences of each category.\n",
    "- <span style = \"color: black; font-weight:bold\">Bar plot: </span>  To visualize the count of each category.\n",
    "- <span style = \"color: black; font-weight:bold\">Count plot: </span> To show the frequency or count of each category."
   ]
  },
  {
   "cell_type": "code",
   "execution_count": 14,
   "id": "e7c209f6",
   "metadata": {},
   "outputs": [],
   "source": [
    "num_columns = data[['rating', 'runtime_in_minutes', 'tomatometer_status', 'tomatometer_rating', \n",
    "                'tomatometer_count', 'audience_rating', 'release_date', 'release_month', \n",
    "                'release_year', 'Streaming_date', 'Streaming_month', 'Streaming_year',]]"
   ]
  },
  {
   "cell_type": "markdown",
   "id": "dd7ae947",
   "metadata": {},
   "source": [
    "### Sweet Viz \n",
    "- Sweetviz is a Python library that generates beautiful, high-density visualizations to quickly analyze and compare datasets. "
   ]
  },
  {
   "cell_type": "code",
   "execution_count": 15,
   "id": "9dd6097c",
   "metadata": {},
   "outputs": [
    {
     "data": {
      "application/vnd.jupyter.widget-view+json": {
       "model_id": "d281168ad4b944f5b7c982358e54bab8",
       "version_major": 2,
       "version_minor": 0
      },
      "text/plain": [
       "                                             |                                             | [  0%]   00:00 ->…"
      ]
     },
     "metadata": {},
     "output_type": "display_data"
    }
   ],
   "source": [
    "import sweetviz as sv\n",
    "report = sv.analyze(num_columns)\n"
   ]
  },
  {
   "cell_type": "code",
   "execution_count": 16,
   "id": "65b680e7",
   "metadata": {},
   "outputs": [
    {
     "name": "stdout",
     "output_type": "stream",
     "text": [
      "Report Audience_rating_Report.html was generated! NOTEBOOK/COLAB USERS: the web browser MAY not pop up, regardless, the report IS saved in your notebook/colab files.\n"
     ]
    }
   ],
   "source": [
    "# Show the report in the browser\n",
    "report.show_html(\"Audience_rating_Report.html\")"
   ]
  },
  {
   "cell_type": "code",
   "execution_count": 17,
   "id": "cfa5aa2a",
   "metadata": {},
   "outputs": [
    {
     "name": "stdout",
     "output_type": "stream",
     "text": [
      "rating\n",
      "R         5650\n",
      "NR        3299\n",
      "PG-13     2672\n",
      "PG        1851\n",
      "G          580\n",
      "NC17        34\n",
      "PG-13)       3\n",
      "R)           1\n",
      "Name: count, dtype: int64\n"
     ]
    },
    {
     "data": {
      "text/plain": [
       "Text(0.5, 1.0, ' Ratings\\xa0Counts')"
      ]
     },
     "execution_count": 17,
     "metadata": {},
     "output_type": "execute_result"
    },
    {
     "data": {
      "image/png": "[encoded data removed]",
      "text/plain": [
       "<Figure size 640x480 with 1 Axes>"
      ]
     },
     "metadata": {},
     "output_type": "display_data"
    }
   ],
   "source": [
    "# count of highest rated ratings\n",
    "print(data['rating'].value_counts())\n",
    "sns.countplot(data=data, x='rating')\n",
    "plt.title(' Ratings Counts')"
   ]
  },
  {
   "cell_type": "code",
   "execution_count": 18,
   "id": "564f1824",
   "metadata": {},
   "outputs": [
    {
     "name": "stdout",
     "output_type": "stream",
     "text": [
      "tomatometer_status\n",
      "Rotten             6468\n",
      "Fresh              4969\n",
      "Certified Fresh    2653\n",
      "Name: count, dtype: int64\n"
     ]
    },
    {
     "data": {
      "text/plain": [
       "Text(0.5, 1.0, 'Count  of Fresh, Certified Fresh and\\xa0Rotten\\xa0Movies')"
      ]
     },
     "execution_count": 18,
     "metadata": {},
     "output_type": "execute_result"
    },
    {
     "data": {
      "image/png": "[encoded data removed]",
      "text/plain": [
       "<Figure size 640x480 with 1 Axes>"
      ]
     },
     "metadata": {},
     "output_type": "display_data"
    }
   ],
   "source": [
    "#Count of Fresh, Certified Fresh and Rotten Movies\n",
    "print(data['tomatometer_status'].value_counts())\n",
    "sns.countplot(data=data, x='tomatometer_status')\n",
    "plt.title('Count  of Fresh, Certified Fresh and Rotten Movies')\n"
   ]
  },
  {
   "cell_type": "code",
   "execution_count": 19,
   "id": "14888b8d",
   "metadata": {},
   "outputs": [
    {
     "data": {
      "text/html": [
       "<div>\n",
       "<style scoped>\n",
       "    .dataframe tbody tr th:only-of-type {\n",
       "        vertical-align: middle;\n",
       "    }\n",
       "\n",
       "    .dataframe tbody tr th {\n",
       "        vertical-align: top;\n",
       "    }\n",
       "\n",
       "    .dataframe thead th {\n",
       "        text-align: right;\n",
       "    }\n",
       "</style>\n",
       "<table border=\"1\" class=\"dataframe\">\n",
       "  <thead>\n",
       "    <tr style=\"text-align: right;\">\n",
       "      <th></th>\n",
       "      <th>runtime_in_minutes</th>\n",
       "      <th>movie_title</th>\n",
       "    </tr>\n",
       "  </thead>\n",
       "  <tbody>\n",
       "    <tr>\n",
       "      <th>13539</th>\n",
       "      <td>2000.0</td>\n",
       "      <td>Terror Tract</td>\n",
       "    </tr>\n",
       "  </tbody>\n",
       "</table>\n",
       "</div>"
      ],
      "text/plain": [
       "       runtime_in_minutes   movie_title\n",
       "13539              2000.0  Terror Tract"
      ]
     },
     "execution_count": 19,
     "metadata": {},
     "output_type": "execute_result"
    }
   ],
   "source": [
    "# Highest runtime movie in the data\n",
    "Highest_runtime=data[data[\"runtime_in_minutes\"] == data[\"runtime_in_minutes\"].max()][[\"runtime_in_minutes\", \"movie_title\"]]\n",
    "Highest_runtime"
   ]
  },
  {
   "cell_type": "code",
   "execution_count": 20,
   "id": "b2288dee",
   "metadata": {},
   "outputs": [
    {
     "data": {
      "text/html": [
       "<div>\n",
       "<style scoped>\n",
       "    .dataframe tbody tr th:only-of-type {\n",
       "        vertical-align: middle;\n",
       "    }\n",
       "\n",
       "    .dataframe tbody tr th {\n",
       "        vertical-align: top;\n",
       "    }\n",
       "\n",
       "    .dataframe thead th {\n",
       "        text-align: right;\n",
       "    }\n",
       "</style>\n",
       "<table border=\"1\" class=\"dataframe\">\n",
       "  <thead>\n",
       "    <tr style=\"text-align: right;\">\n",
       "      <th></th>\n",
       "      <th>runtime_in_minutes</th>\n",
       "      <th>movie_title</th>\n",
       "    </tr>\n",
       "  </thead>\n",
       "  <tbody>\n",
       "    <tr>\n",
       "      <th>323</th>\n",
       "      <td>1.0</td>\n",
       "      <td>The Border</td>\n",
       "    </tr>\n",
       "    <tr>\n",
       "      <th>1017</th>\n",
       "      <td>1.0</td>\n",
       "      <td>The Prophecy</td>\n",
       "    </tr>\n",
       "    <tr>\n",
       "      <th>3039</th>\n",
       "      <td>1.0</td>\n",
       "      <td>The Barbarian Invasions (Les Invasions barbares)</td>\n",
       "    </tr>\n",
       "    <tr>\n",
       "      <th>7019</th>\n",
       "      <td>1.0</td>\n",
       "      <td>Halloween - The Curse of Michael Myers (Hallow...</td>\n",
       "    </tr>\n",
       "    <tr>\n",
       "      <th>7248</th>\n",
       "      <td>1.0</td>\n",
       "      <td>Hellraiser: Deader</td>\n",
       "    </tr>\n",
       "    <tr>\n",
       "      <th>7249</th>\n",
       "      <td>1.0</td>\n",
       "      <td>Hellraiser: Hellseeker</td>\n",
       "    </tr>\n",
       "    <tr>\n",
       "      <th>7250</th>\n",
       "      <td>1.0</td>\n",
       "      <td>Hellraiser: Hellworld</td>\n",
       "    </tr>\n",
       "    <tr>\n",
       "      <th>11986</th>\n",
       "      <td>1.0</td>\n",
       "      <td>Rory O'Shea Was Here</td>\n",
       "    </tr>\n",
       "  </tbody>\n",
       "</table>\n",
       "</div>"
      ],
      "text/plain": [
       "       runtime_in_minutes                                        movie_title\n",
       "323                   1.0                                         The Border\n",
       "1017                  1.0                                       The Prophecy\n",
       "3039                  1.0   The Barbarian Invasions (Les Invasions barbares)\n",
       "7019                  1.0  Halloween - The Curse of Michael Myers (Hallow...\n",
       "7248                  1.0                                 Hellraiser: Deader\n",
       "7249                  1.0                             Hellraiser: Hellseeker\n",
       "7250                  1.0                              Hellraiser: Hellworld\n",
       "11986                 1.0                               Rory O'Shea Was Here"
      ]
     },
     "execution_count": 20,
     "metadata": {},
     "output_type": "execute_result"
    }
   ],
   "source": [
    "# Lowest runtime movie in the data\n",
    "Lowest_runtime=data[data[\"runtime_in_minutes\"] == data[\"runtime_in_minutes\"].min()][[\"runtime_in_minutes\", \"movie_title\"]]\n",
    "Lowest_runtime"
   ]
  },
  {
   "cell_type": "code",
   "execution_count": 21,
   "id": "5bbe9483",
   "metadata": {},
   "outputs": [
    {
     "data": {
      "text/html": [
       "<div>\n",
       "<style scoped>\n",
       "    .dataframe tbody tr th:only-of-type {\n",
       "        vertical-align: middle;\n",
       "    }\n",
       "\n",
       "    .dataframe tbody tr th {\n",
       "        vertical-align: top;\n",
       "    }\n",
       "\n",
       "    .dataframe thead th {\n",
       "        text-align: right;\n",
       "    }\n",
       "</style>\n",
       "<table border=\"1\" class=\"dataframe\">\n",
       "  <thead>\n",
       "    <tr style=\"text-align: right;\">\n",
       "      <th></th>\n",
       "      <th>movie_title</th>\n",
       "      <th>movie_info</th>\n",
       "      <th>rating</th>\n",
       "      <th>genre</th>\n",
       "      <th>directors</th>\n",
       "      <th>writers</th>\n",
       "      <th>cast</th>\n",
       "      <th>runtime_in_minutes</th>\n",
       "      <th>studio_name</th>\n",
       "      <th>tomatometer_status</th>\n",
       "      <th>tomatometer_rating</th>\n",
       "      <th>tomatometer_count</th>\n",
       "      <th>audience_rating</th>\n",
       "      <th>release_date</th>\n",
       "      <th>release_month</th>\n",
       "      <th>release_year</th>\n",
       "      <th>Streaming_date</th>\n",
       "      <th>Streaming_month</th>\n",
       "      <th>Streaming_year</th>\n",
       "      <th>no.of.directors</th>\n",
       "    </tr>\n",
       "  </thead>\n",
       "  <tbody>\n",
       "    <tr>\n",
       "      <th>10976</th>\n",
       "      <td>Paris Je T'aime</td>\n",
       "      <td>Twenty acclaimed filmmakers from around the wo...</td>\n",
       "      <td>R</td>\n",
       "      <td>Art House &amp; International, Drama, Romance</td>\n",
       "      <td>Christoffer Boe, Olivier Assayas, Fr√©d√©ric A...</td>\n",
       "      <td>Bruno Podalyd√®s, Paul Mayeda Berges, Gurinder...</td>\n",
       "      <td>Juliette Binoche, Steve Buscemi, Sergio Castel...</td>\n",
       "      <td>120.0</td>\n",
       "      <td>First Look Pictures</td>\n",
       "      <td>Certified Fresh</td>\n",
       "      <td>87</td>\n",
       "      <td>112</td>\n",
       "      <td>84.0</td>\n",
       "      <td>4.0</td>\n",
       "      <td>5.0</td>\n",
       "      <td>2007.0</td>\n",
       "      <td>13.0</td>\n",
       "      <td>11.0</td>\n",
       "      <td>2007.0</td>\n",
       "      <td>22</td>\n",
       "    </tr>\n",
       "  </tbody>\n",
       "</table>\n",
       "</div>"
      ],
      "text/plain": [
       "           movie_title                                         movie_info  \\\n",
       "10976  Paris Je T'aime  Twenty acclaimed filmmakers from around the wo...   \n",
       "\n",
       "      rating                                      genre  \\\n",
       "10976      R  Art House & International, Drama, Romance   \n",
       "\n",
       "                                               directors  \\\n",
       "10976  Christoffer Boe, Olivier Assayas, Fr√©d√©ric A...   \n",
       "\n",
       "                                                 writers  \\\n",
       "10976  Bruno Podalyd√®s, Paul Mayeda Berges, Gurinder...   \n",
       "\n",
       "                                                    cast  runtime_in_minutes  \\\n",
       "10976  Juliette Binoche, Steve Buscemi, Sergio Castel...               120.0   \n",
       "\n",
       "               studio_name tomatometer_status  tomatometer_rating  \\\n",
       "10976  First Look Pictures    Certified Fresh                  87   \n",
       "\n",
       "       tomatometer_count  audience_rating  release_date  release_month  \\\n",
       "10976                112             84.0           4.0            5.0   \n",
       "\n",
       "       release_year  Streaming_date  Streaming_month  Streaming_year  \\\n",
       "10976        2007.0            13.0             11.0          2007.0   \n",
       "\n",
       "       no.of.directors  \n",
       "10976               22  "
      ]
     },
     "execution_count": 21,
     "metadata": {},
     "output_type": "execute_result"
    }
   ],
   "source": [
    "# Count of most directors for a movie in the data\n",
    "def count_directors(directors):\n",
    "    return len(directors.split(','))\n",
    "\n",
    "data['no.of.directors'] = data['directors'].apply(count_directors)\n",
    "most_directors_movie = data[data['no.of.directors'] == data['no.of.directors'].max()]\n",
    "\n",
    "most_directors_movie"
   ]
  },
  {
   "cell_type": "code",
   "execution_count": 22,
   "id": "6b13d1ef",
   "metadata": {},
   "outputs": [
    {
     "data": {
      "text/html": [
       "<div>\n",
       "<style scoped>\n",
       "    .dataframe tbody tr th:only-of-type {\n",
       "        vertical-align: middle;\n",
       "    }\n",
       "\n",
       "    .dataframe tbody tr th {\n",
       "        vertical-align: top;\n",
       "    }\n",
       "\n",
       "    .dataframe thead th {\n",
       "        text-align: right;\n",
       "    }\n",
       "</style>\n",
       "<table border=\"1\" class=\"dataframe\">\n",
       "  <thead>\n",
       "    <tr style=\"text-align: right;\">\n",
       "      <th></th>\n",
       "      <th>movie_title</th>\n",
       "      <th>movie_info</th>\n",
       "      <th>rating</th>\n",
       "      <th>genre</th>\n",
       "      <th>directors</th>\n",
       "      <th>writers</th>\n",
       "      <th>cast</th>\n",
       "      <th>runtime_in_minutes</th>\n",
       "      <th>studio_name</th>\n",
       "      <th>tomatometer_status</th>\n",
       "      <th>...</th>\n",
       "      <th>tomatometer_count</th>\n",
       "      <th>audience_rating</th>\n",
       "      <th>release_date</th>\n",
       "      <th>release_month</th>\n",
       "      <th>release_year</th>\n",
       "      <th>Streaming_date</th>\n",
       "      <th>Streaming_month</th>\n",
       "      <th>Streaming_year</th>\n",
       "      <th>no.of.directors</th>\n",
       "      <th>most_cast</th>\n",
       "    </tr>\n",
       "  </thead>\n",
       "  <tbody>\n",
       "    <tr>\n",
       "      <th>912</th>\n",
       "      <td>Malcolm X</td>\n",
       "      <td>Writer-director Spike Lee's epic portrayal of ...</td>\n",
       "      <td>PG-13</td>\n",
       "      <td>Drama</td>\n",
       "      <td>Spike Lee</td>\n",
       "      <td>Spike Lee, Arnold Perl</td>\n",
       "      <td>Denzel Washington, Angela Bassett, Al Freeman ...</td>\n",
       "      <td>201.0</td>\n",
       "      <td>Warner Bros.</td>\n",
       "      <td>Certified Fresh</td>\n",
       "      <td>...</td>\n",
       "      <td>57</td>\n",
       "      <td>91.0</td>\n",
       "      <td>18.0</td>\n",
       "      <td>11.0</td>\n",
       "      <td>1992.0</td>\n",
       "      <td>18.0</td>\n",
       "      <td>1.0</td>\n",
       "      <td>2000.0</td>\n",
       "      <td>1</td>\n",
       "      <td>306</td>\n",
       "    </tr>\n",
       "  </tbody>\n",
       "</table>\n",
       "<p>1 rows × 21 columns</p>\n",
       "</div>"
      ],
      "text/plain": [
       "    movie_title                                         movie_info rating  \\\n",
       "912   Malcolm X  Writer-director Spike Lee's epic portrayal of ...  PG-13   \n",
       "\n",
       "     genre  directors                 writers  \\\n",
       "912  Drama  Spike Lee  Spike Lee, Arnold Perl   \n",
       "\n",
       "                                                  cast  runtime_in_minutes  \\\n",
       "912  Denzel Washington, Angela Bassett, Al Freeman ...               201.0   \n",
       "\n",
       "      studio_name tomatometer_status  ...  tomatometer_count  audience_rating  \\\n",
       "912  Warner Bros.    Certified Fresh  ...                 57             91.0   \n",
       "\n",
       "     release_date  release_month  release_year  Streaming_date  \\\n",
       "912          18.0           11.0        1992.0            18.0   \n",
       "\n",
       "     Streaming_month  Streaming_year  no.of.directors  most_cast  \n",
       "912              1.0          2000.0                1        306  \n",
       "\n",
       "[1 rows x 21 columns]"
      ]
     },
     "execution_count": 22,
     "metadata": {},
     "output_type": "execute_result"
    }
   ],
   "source": [
    "# Count of most casted  movie in the data\n",
    "def count_cast(cast):\n",
    "    return len(cast.split(','))\n",
    "\n",
    "data['most_cast'] = data['cast'].apply(count_cast)\n",
    "most_cast = data[data['most_cast'] == data['most_cast'].max()]\n",
    "\n",
    "most_cast"
   ]
  },
  {
   "cell_type": "code",
   "execution_count": 23,
   "id": "0d234dc8",
   "metadata": {},
   "outputs": [
    {
     "name": "stdout",
     "output_type": "stream",
     "text": [
      "studio_name\n",
      "Paramount Pictures                  473\n",
      "Warner Bros. Pictures               472\n",
      "Universal Pictures                  457\n",
      "20th Century Fox                    404\n",
      "IFC Films                           355\n",
      "Sony Pictures Home Entertainment    346\n",
      "Warner Home Video                   338\n",
      "MGM                                 246\n",
      "MGM Home Entertainment              241\n",
      "Sony Pictures Classics              238\n",
      "Name: count, dtype: int64\n"
     ]
    },
    {
     "data": {
      "text/plain": [
       "Text(0.5, 1.0, 'studio  Counts')"
      ]
     },
     "execution_count": 23,
     "metadata": {},
     "output_type": "execute_result"
    },
    {
     "data": {
      "image/png": "[encoded data removed]",
      "text/plain": [
       "<Figure size 640x480 with 1 Axes>"
      ]
     },
     "metadata": {},
     "output_type": "display_data"
    }
   ],
   "source": [
    "#Number of Movies Produced by top 10 Company\n",
    "print(data['studio_name'].value_counts()[:10])\n",
    "data['studio_name'].value_counts()[:10].plot(kind='bar')\n",
    "plt.title('studio  Counts')"
   ]
  },
  {
   "cell_type": "code",
   "execution_count": 24,
   "id": "0952a8fb",
   "metadata": {},
   "outputs": [
    {
     "name": "stdout",
     "output_type": "stream",
     "text": [
      "Year with most number of movies:  2014.0\n",
      "Year with least number of movies:  1914.0\n"
     ]
    },
    {
     "data": {
      "image/png": "[encoded data removed]",
      "text/plain": [
       "<Figure size 500x500 with 1 Axes>"
      ]
     },
     "metadata": {},
     "output_type": "display_data"
    }
   ],
   "source": [
    "# Count of movie released per year\n",
    "sns.displot(data=data, x='release_year')\n",
    "plt.ylabel('# MOVIES')\n",
    "plt.title('Movies per Year')\n",
    "print('Year with most number of movies: ', data['release_year'].value_counts().index[0])\n",
    "print('Year with least number of movies: ', data['release_year'].value_counts().index[-1])"
   ]
  },
  {
   "cell_type": "code",
   "execution_count": 25,
   "id": "bd12a153",
   "metadata": {},
   "outputs": [
    {
     "data": {
      "text/plain": [
       "Text(0, 0.5, 'Counts')"
      ]
     },
     "execution_count": 25,
     "metadata": {},
     "output_type": "execute_result"
    },
    {
     "data": {
      "image/png": "[encoded data removed]",
      "text/plain": [
       "<Figure size 640x480 with 1 Axes>"
      ]
     },
     "metadata": {},
     "output_type": "display_data"
    }
   ],
   "source": [
    "# count of Top 10 movie genre in a data\n",
    "data['genre'].value_counts()[:10].plot(kind='bar')\n",
    "plt.title('Distribution of Genre')\n",
    "plt.ylabel('Counts')"
   ]
  },
  {
   "cell_type": "code",
   "execution_count": 26,
   "id": "6b7b6cd3",
   "metadata": {},
   "outputs": [
    {
     "name": "stdout",
     "output_type": "stream",
     "text": [
      "tomatometer_status\n",
      "2    6468\n",
      "1    4969\n",
      "0    2653\n",
      "Name: count, dtype: int64\n",
      "rating\n",
      "6    5650\n",
      "2    3299\n",
      "4    2672\n",
      "3    1851\n",
      "0     580\n",
      "1      34\n",
      "5       3\n",
      "7       1\n",
      "Name: count, dtype: int64\n"
     ]
    }
   ],
   "source": [
    "#converting categorical to numerical values for least unique value categorical featuresin the data \n",
    "from sklearn.preprocessing import LabelEncoder\n",
    "\n",
    "label_encoder = LabelEncoder()\n",
    "data[['tomatometer_status', 'rating']] = data[['tomatometer_status', 'rating']].apply(label_encoder.fit_transform)\n",
    "\n",
    "print(data['tomatometer_status'].value_counts())\n",
    "print(data['rating'].value_counts())"
   ]
  },
  {
   "cell_type": "code",
   "execution_count": 27,
   "id": "ee8fb01f",
   "metadata": {},
   "outputs": [
    {
     "data": {
      "text/html": [
       "<div>\n",
       "<style scoped>\n",
       "    .dataframe tbody tr th:only-of-type {\n",
       "        vertical-align: middle;\n",
       "    }\n",
       "\n",
       "    .dataframe tbody tr th {\n",
       "        vertical-align: top;\n",
       "    }\n",
       "\n",
       "    .dataframe thead th {\n",
       "        text-align: right;\n",
       "    }\n",
       "</style>\n",
       "<table border=\"1\" class=\"dataframe\">\n",
       "  <thead>\n",
       "    <tr style=\"text-align: right;\">\n",
       "      <th></th>\n",
       "      <th>rating</th>\n",
       "      <th>runtime_in_minutes</th>\n",
       "      <th>tomatometer_status</th>\n",
       "      <th>tomatometer_rating</th>\n",
       "      <th>tomatometer_count</th>\n",
       "      <th>audience_rating</th>\n",
       "      <th>release_date</th>\n",
       "      <th>release_month</th>\n",
       "      <th>release_year</th>\n",
       "      <th>Streaming_date</th>\n",
       "      <th>Streaming_month</th>\n",
       "      <th>Streaming_year</th>\n",
       "      <th>no.of.directors</th>\n",
       "      <th>most_cast</th>\n",
       "    </tr>\n",
       "  </thead>\n",
       "  <tbody>\n",
       "    <tr>\n",
       "      <th>count</th>\n",
       "      <td>14090.000000</td>\n",
       "      <td>14090.000000</td>\n",
       "      <td>14090.000000</td>\n",
       "      <td>14090.000000</td>\n",
       "      <td>14090.000000</td>\n",
       "      <td>14090.00000</td>\n",
       "      <td>14090.000000</td>\n",
       "      <td>14090.000000</td>\n",
       "      <td>14090.000000</td>\n",
       "      <td>14090.000000</td>\n",
       "      <td>14090.000000</td>\n",
       "      <td>14090.000000</td>\n",
       "      <td>14090.000000</td>\n",
       "      <td>14090.000000</td>\n",
       "    </tr>\n",
       "    <tr>\n",
       "      <th>mean</th>\n",
       "      <td>4.030873</td>\n",
       "      <td>103.646842</td>\n",
       "      <td>1.270759</td>\n",
       "      <td>58.903052</td>\n",
       "      <td>61.854365</td>\n",
       "      <td>60.07885</td>\n",
       "      <td>14.557630</td>\n",
       "      <td>6.502555</td>\n",
       "      <td>1998.541945</td>\n",
       "      <td>15.272676</td>\n",
       "      <td>6.447055</td>\n",
       "      <td>2007.580696</td>\n",
       "      <td>1.122569</td>\n",
       "      <td>27.640667</td>\n",
       "    </tr>\n",
       "    <tr>\n",
       "      <th>std</th>\n",
       "      <td>1.830948</td>\n",
       "      <td>25.548225</td>\n",
       "      <td>0.757673</td>\n",
       "      <td>28.528839</td>\n",
       "      <td>68.860785</td>\n",
       "      <td>20.34867</td>\n",
       "      <td>9.121531</td>\n",
       "      <td>3.522943</td>\n",
       "      <td>19.736686</td>\n",
       "      <td>8.815602</td>\n",
       "      <td>3.420274</td>\n",
       "      <td>6.356441</td>\n",
       "      <td>0.520386</td>\n",
       "      <td>20.719323</td>\n",
       "    </tr>\n",
       "    <tr>\n",
       "      <th>min</th>\n",
       "      <td>0.000000</td>\n",
       "      <td>1.000000</td>\n",
       "      <td>0.000000</td>\n",
       "      <td>0.000000</td>\n",
       "      <td>5.000000</td>\n",
       "      <td>0.00000</td>\n",
       "      <td>1.000000</td>\n",
       "      <td>1.000000</td>\n",
       "      <td>1914.000000</td>\n",
       "      <td>1.000000</td>\n",
       "      <td>1.000000</td>\n",
       "      <td>1935.000000</td>\n",
       "      <td>1.000000</td>\n",
       "      <td>1.000000</td>\n",
       "    </tr>\n",
       "    <tr>\n",
       "      <th>25%</th>\n",
       "      <td>2.000000</td>\n",
       "      <td>91.000000</td>\n",
       "      <td>1.000000</td>\n",
       "      <td>36.000000</td>\n",
       "      <td>14.000000</td>\n",
       "      <td>44.00000</td>\n",
       "      <td>7.000000</td>\n",
       "      <td>3.000000</td>\n",
       "      <td>1991.000000</td>\n",
       "      <td>7.000000</td>\n",
       "      <td>3.000000</td>\n",
       "      <td>2002.000000</td>\n",
       "      <td>1.000000</td>\n",
       "      <td>12.000000</td>\n",
       "    </tr>\n",
       "    <tr>\n",
       "      <th>50%</th>\n",
       "      <td>4.000000</td>\n",
       "      <td>100.000000</td>\n",
       "      <td>1.000000</td>\n",
       "      <td>63.000000</td>\n",
       "      <td>32.000000</td>\n",
       "      <td>62.00000</td>\n",
       "      <td>15.000000</td>\n",
       "      <td>7.000000</td>\n",
       "      <td>2005.000000</td>\n",
       "      <td>15.000000</td>\n",
       "      <td>6.000000</td>\n",
       "      <td>2007.000000</td>\n",
       "      <td>1.000000</td>\n",
       "      <td>22.000000</td>\n",
       "    </tr>\n",
       "    <tr>\n",
       "      <th>75%</th>\n",
       "      <td>6.000000</td>\n",
       "      <td>112.000000</td>\n",
       "      <td>2.000000</td>\n",
       "      <td>84.000000</td>\n",
       "      <td>88.000000</td>\n",
       "      <td>77.00000</td>\n",
       "      <td>22.000000</td>\n",
       "      <td>10.000000</td>\n",
       "      <td>2013.000000</td>\n",
       "      <td>23.000000</td>\n",
       "      <td>9.000000</td>\n",
       "      <td>2013.000000</td>\n",
       "      <td>1.000000</td>\n",
       "      <td>38.000000</td>\n",
       "    </tr>\n",
       "    <tr>\n",
       "      <th>max</th>\n",
       "      <td>7.000000</td>\n",
       "      <td>2000.000000</td>\n",
       "      <td>2.000000</td>\n",
       "      <td>100.000000</td>\n",
       "      <td>497.000000</td>\n",
       "      <td>100.00000</td>\n",
       "      <td>31.000000</td>\n",
       "      <td>12.000000</td>\n",
       "      <td>2019.000000</td>\n",
       "      <td>31.000000</td>\n",
       "      <td>12.000000</td>\n",
       "      <td>2019.000000</td>\n",
       "      <td>22.000000</td>\n",
       "      <td>306.000000</td>\n",
       "    </tr>\n",
       "  </tbody>\n",
       "</table>\n",
       "</div>"
      ],
      "text/plain": [
       "             rating  runtime_in_minutes  tomatometer_status  \\\n",
       "count  14090.000000        14090.000000        14090.000000   \n",
       "mean       4.030873          103.646842            1.270759   \n",
       "std        1.830948           25.548225            0.757673   \n",
       "min        0.000000            1.000000            0.000000   \n",
       "25%        2.000000           91.000000            1.000000   \n",
       "50%        4.000000          100.000000            1.000000   \n",
       "75%        6.000000          112.000000            2.000000   \n",
       "max        7.000000         2000.000000            2.000000   \n",
       "\n",
       "       tomatometer_rating  tomatometer_count  audience_rating  release_date  \\\n",
       "count        14090.000000       14090.000000      14090.00000  14090.000000   \n",
       "mean            58.903052          61.854365         60.07885     14.557630   \n",
       "std             28.528839          68.860785         20.34867      9.121531   \n",
       "min              0.000000           5.000000          0.00000      1.000000   \n",
       "25%             36.000000          14.000000         44.00000      7.000000   \n",
       "50%             63.000000          32.000000         62.00000     15.000000   \n",
       "75%             84.000000          88.000000         77.00000     22.000000   \n",
       "max            100.000000         497.000000        100.00000     31.000000   \n",
       "\n",
       "       release_month  release_year  Streaming_date  Streaming_month  \\\n",
       "count   14090.000000  14090.000000    14090.000000     14090.000000   \n",
       "mean        6.502555   1998.541945       15.272676         6.447055   \n",
       "std         3.522943     19.736686        8.815602         3.420274   \n",
       "min         1.000000   1914.000000        1.000000         1.000000   \n",
       "25%         3.000000   1991.000000        7.000000         3.000000   \n",
       "50%         7.000000   2005.000000       15.000000         6.000000   \n",
       "75%        10.000000   2013.000000       23.000000         9.000000   \n",
       "max        12.000000   2019.000000       31.000000        12.000000   \n",
       "\n",
       "       Streaming_year  no.of.directors     most_cast  \n",
       "count    14090.000000     14090.000000  14090.000000  \n",
       "mean      2007.580696         1.122569     27.640667  \n",
       "std          6.356441         0.520386     20.719323  \n",
       "min       1935.000000         1.000000      1.000000  \n",
       "25%       2002.000000         1.000000     12.000000  \n",
       "50%       2007.000000         1.000000     22.000000  \n",
       "75%       2013.000000         1.000000     38.000000  \n",
       "max       2019.000000        22.000000    306.000000  "
      ]
     },
     "execution_count": 27,
     "metadata": {},
     "output_type": "execute_result"
    }
   ],
   "source": [
    "data.describe()"
   ]
  },
  {
   "cell_type": "markdown",
   "id": "3056dc51",
   "metadata": {},
   "source": [
    "### Multivariate Analysis\n",
    "\n",
    "Multivariate analysis involves  <span style = \"color: black; font-weight:bold\">Analyzing more than two columns simultaneously</span>. This can get complex depending on the number of columns and their types.\n",
    "\n",
    "- analysing all the columns at once  \n",
    "\n",
    "#### Mixed Types (Numerical and Categorical):\n",
    "\n",
    "- <span style = \"color: black; font-weight:bold\">Heatmap: </span> To show correlations between numerical variables.\n",
    "- <span style = \"color: black; font-weight:bold\">Correlation Matrix: </span> To visualize the correlation between all numerical columns."
   ]
  },
  {
   "cell_type": "code",
   "execution_count": 28,
   "id": "6b31c4d9",
   "metadata": {},
   "outputs": [
    {
     "data": {
      "text/plain": [
       "<Axes: >"
      ]
     },
     "execution_count": 28,
     "metadata": {},
     "output_type": "execute_result"
    },
    {
     "data": {
      "image/png": "[encoded data removed]",
      "text/plain": [
       "<Figure size 1500x1000 with 2 Axes>"
      ]
     },
     "metadata": {},
     "output_type": "display_data"
    }
   ],
   "source": [
    "# checking Correlation between the features\n",
    "corr =data.select_dtypes('number').corr()\n",
    "plt.figure(figsize=(15, 10))\n",
    "sns.heatmap(corr, annot=True, cmap='binary')"
   ]
  },
  {
   "cell_type": "code",
   "execution_count": 29,
   "id": "60408b93",
   "metadata": {},
   "outputs": [
    {
     "data": {
      "text/plain": [
       "audience_rating       1.000000\n",
       "tomatometer_rating    0.668687\n",
       "runtime_in_minutes    0.186683\n",
       "tomatometer_count     0.156873\n",
       "most_cast             0.076820\n",
       "release_month         0.047499\n",
       "no.of.directors       0.005388\n",
       "release_date          0.002548\n",
       "Streaming_month      -0.002585\n",
       "Streaming_date       -0.015541\n",
       "Streaming_year       -0.136502\n",
       "rating               -0.158372\n",
       "release_year         -0.232641\n",
       "tomatometer_status   -0.590790\n",
       "Name: audience_rating, dtype: float64"
      ]
     },
     "execution_count": 29,
     "metadata": {},
     "output_type": "execute_result"
    }
   ],
   "source": [
    "#Correlation with the target value \"audience_rating\"\n",
    "data.select_dtypes('number').corr()['audience_rating'].sort_values(ascending=False)"
   ]
  },
  {
   "cell_type": "markdown",
   "id": "e1226b01",
   "metadata": {},
   "source": [
    "#### identifying outliers using Boxplot"
   ]
  },
  {
   "cell_type": "code",
   "execution_count": 30,
   "id": "4c215eef",
   "metadata": {},
   "outputs": [
    {
     "data": {
      "image/png": "[encoded data removed]",
      "text/plain": [
       "<Figure size 1200x800 with 1 Axes>"
      ]
     },
     "metadata": {},
     "output_type": "display_data"
    }
   ],
   "source": [
    "# identifying outliers using Boxplot\n",
    "# List of columns to analyze\n",
    "columns = [ 'rating', 'runtime_in_minutes', 'tomatometer_status',\n",
    "       'tomatometer_rating', 'tomatometer_count', 'audience_rating',\n",
    "       'release_date', 'release_month', 'release_year', 'Streaming_date',\n",
    "       'Streaming_month', 'Streaming_year', 'no.of.directors', 'most_cast']\n",
    "\n",
    "plt.figure(figsize=(12,8))\n",
    "data[columns].boxplot()\n",
    "plt.title('Box Plot for the Features')\n",
    "plt.ylabel('Values')\n",
    "plt.xticks(rotation=90)\n",
    "plt.show()"
   ]
  },
  {
   "cell_type": "markdown",
   "id": "f7113204",
   "metadata": {},
   "source": [
    "#### Checking For Outliers in the data by Z_SCORE"
   ]
  },
  {
   "cell_type": "code",
   "execution_count": 31,
   "id": "a5927a55",
   "metadata": {},
   "outputs": [],
   "source": [
    "from scipy.stats import zscore\n",
    "\n",
    "# List of columns to analyze\n",
    "columns =[ 'rating', 'runtime_in_minutes', 'tomatometer_status','tomatometer_rating', 'tomatometer_count', \n",
    "          'audience_rating','release_date', 'release_month', 'release_year', 'Streaming_date',\n",
    "          'Streaming_month', 'Streaming_year', 'no.of.directors', 'most_cast']\n",
    "threshold = 3 "
   ]
  },
  {
   "cell_type": "code",
   "execution_count": 32,
   "id": "7d94235a",
   "metadata": {},
   "outputs": [
    {
     "name": "stdout",
     "output_type": "stream",
     "text": [
      "Feature: rating\n",
      "Percentage of outliers: 0.00%\n",
      "\n",
      "Feature: runtime_in_minutes\n",
      "Percentage of outliers: 0.74%\n",
      "\n",
      "Feature: tomatometer_status\n",
      "Percentage of outliers: 0.00%\n",
      "\n",
      "Feature: tomatometer_rating\n",
      "Percentage of outliers: 0.00%\n",
      "\n",
      "Feature: tomatometer_count\n",
      "Percentage of outliers: 1.70%\n",
      "\n",
      "Feature: audience_rating\n",
      "Percentage of outliers: 0.00%\n",
      "\n",
      "Feature: release_date\n",
      "Percentage of outliers: 0.00%\n",
      "\n",
      "Feature: release_month\n",
      "Percentage of outliers: 0.00%\n",
      "\n",
      "Feature: release_year\n",
      "Percentage of outliers: 1.74%\n",
      "\n",
      "Feature: Streaming_date\n",
      "Percentage of outliers: 0.00%\n",
      "\n",
      "Feature: Streaming_month\n",
      "Percentage of outliers: 0.00%\n",
      "\n",
      "Feature: Streaming_year\n",
      "Percentage of outliers: 0.04%\n",
      "\n",
      "Feature: no.of.directors\n",
      "Percentage of outliers: 1.49%\n",
      "\n",
      "Feature: most_cast\n",
      "Percentage of outliers: 1.50%\n",
      "\n"
     ]
    }
   ],
   "source": [
    "# Analyze each column with percentage of Outliers\n",
    "for col in columns:\n",
    "    \n",
    "    z_scores = zscore(data[col])  \n",
    "    outliers = data[abs(z_scores) > threshold]\n",
    "    percentage_outliers = (len(outliers) / len(data)) * 100\n",
    "    \n",
    "    print(f\"Feature: {col}\")\n",
    "    print(f\"Percentage of outliers: {percentage_outliers:.2f}%\\n\")"
   ]
  },
  {
   "cell_type": "code",
   "execution_count": 33,
   "id": "130a2664",
   "metadata": {},
   "outputs": [],
   "source": [
    "for col in columns:\n",
    "    Q1 = data[col].quantile(0.25)  # 1st quartile\n",
    "    Q3 = data[col].quantile(0.75)  # 3rd quartile\n",
    "    IQR = Q3 - Q1  # Interquartile range\n",
    "    lower_limit = Q1 - 1.5 * IQR\n",
    "    upper_limit = Q3 + 1.5 * IQR\n",
    "    \n",
    "    # Replace outliers with upper or lower limit\n",
    "    data[col] = data[col].mask(data[col] < lower_limit, lower_limit)\n",
    "    data[col] = data[col].mask(data[col] > upper_limit, upper_limit)\n"
   ]
  },
  {
   "cell_type": "code",
   "execution_count": 34,
   "id": "87ab05e0",
   "metadata": {},
   "outputs": [
    {
     "name": "stdout",
     "output_type": "stream",
     "text": [
      "Feature: rating\n",
      "Percentage of outliers: 0.00%\n",
      "\n",
      "Feature: runtime_in_minutes\n",
      "Percentage of outliers: 0.00%\n",
      "\n",
      "Feature: tomatometer_status\n",
      "Percentage of outliers: 0.00%\n",
      "\n",
      "Feature: tomatometer_rating\n",
      "Percentage of outliers: 0.00%\n",
      "\n",
      "Feature: tomatometer_count\n",
      "Percentage of outliers: 0.00%\n",
      "\n",
      "Feature: audience_rating\n",
      "Percentage of outliers: 0.00%\n",
      "\n",
      "Feature: release_date\n",
      "Percentage of outliers: 0.00%\n",
      "\n",
      "Feature: release_month\n",
      "Percentage of outliers: 0.00%\n",
      "\n",
      "Feature: release_year\n",
      "Percentage of outliers: 0.00%\n",
      "\n",
      "Feature: Streaming_date\n",
      "Percentage of outliers: 0.00%\n",
      "\n",
      "Feature: Streaming_month\n",
      "Percentage of outliers: 0.00%\n",
      "\n",
      "Feature: Streaming_year\n",
      "Percentage of outliers: 0.04%\n",
      "\n",
      "Feature: no.of.directors\n",
      "Percentage of outliers: 0.00%\n",
      "\n",
      "Feature: most_cast\n",
      "Percentage of outliers: 0.00%\n",
      "\n"
     ]
    }
   ],
   "source": [
    "# Rechecking the columns after handling outliers\n",
    "for col in columns:\n",
    "    \n",
    "    z_scores = zscore(data[col])  \n",
    "    outliers = data[abs(z_scores) > threshold]\n",
    "    percentage_outliers = (len(outliers) / len(data)) * 100\n",
    "    \n",
    "    print(f\"Feature: {col}\")\n",
    "    print(f\"Percentage of outliers: {percentage_outliers:.2f}%\\n\")"
   ]
  },
  {
   "cell_type": "code",
   "execution_count": 35,
   "id": "022aaaea",
   "metadata": {},
   "outputs": [],
   "source": [
    "feature_to_scale= data.drop(columns=['movie_title', 'movie_info', 'genre', 'directors', \n",
    "                                     'writers', 'cast','studio_name'])\n"
   ]
  },
  {
   "cell_type": "code",
   "execution_count": 36,
   "id": "ea844975",
   "metadata": {},
   "outputs": [
    {
     "data": {
      "text/html": [
       "<div>\n",
       "<style scoped>\n",
       "    .dataframe tbody tr th:only-of-type {\n",
       "        vertical-align: middle;\n",
       "    }\n",
       "\n",
       "    .dataframe tbody tr th {\n",
       "        vertical-align: top;\n",
       "    }\n",
       "\n",
       "    .dataframe thead th {\n",
       "        text-align: right;\n",
       "    }\n",
       "</style>\n",
       "<table border=\"1\" class=\"dataframe\">\n",
       "  <thead>\n",
       "    <tr style=\"text-align: right;\">\n",
       "      <th></th>\n",
       "      <th>rating</th>\n",
       "      <th>runtime_in_minutes</th>\n",
       "      <th>tomatometer_status</th>\n",
       "      <th>tomatometer_rating</th>\n",
       "      <th>tomatometer_count</th>\n",
       "      <th>audience_rating</th>\n",
       "      <th>release_date</th>\n",
       "      <th>release_month</th>\n",
       "      <th>release_year</th>\n",
       "      <th>Streaming_date</th>\n",
       "      <th>Streaming_month</th>\n",
       "      <th>Streaming_year</th>\n",
       "      <th>no.of.directors</th>\n",
       "      <th>most_cast</th>\n",
       "    </tr>\n",
       "  </thead>\n",
       "  <tbody>\n",
       "    <tr>\n",
       "      <th>0</th>\n",
       "      <td>-0.563047</td>\n",
       "      <td>-1.213324</td>\n",
       "      <td>0.962508</td>\n",
       "      <td>-0.347137</td>\n",
       "      <td>1.453335</td>\n",
       "      <td>-0.347890</td>\n",
       "      <td>-0.280405</td>\n",
       "      <td>-1.278112</td>\n",
       "      <td>0.608269</td>\n",
       "      <td>1.557218</td>\n",
       "      <td>-0.130712</td>\n",
       "      <td>0.381662</td>\n",
       "      <td>0.0</td>\n",
       "      <td>2.653826</td>\n",
       "    </tr>\n",
       "    <tr>\n",
       "      <th>1</th>\n",
       "      <td>1.075507</td>\n",
       "      <td>-0.786200</td>\n",
       "      <td>-1.677246</td>\n",
       "      <td>0.949843</td>\n",
       "      <td>1.385287</td>\n",
       "      <td>0.192705</td>\n",
       "      <td>1.693018</td>\n",
       "      <td>-0.710384</td>\n",
       "      <td>0.608269</td>\n",
       "      <td>0.422825</td>\n",
       "      <td>1.038826</td>\n",
       "      <td>0.381662</td>\n",
       "      <td>0.0</td>\n",
       "      <td>-1.016190</td>\n",
       "    </tr>\n",
       "    <tr>\n",
       "      <th>2</th>\n",
       "      <td>1.075507</td>\n",
       "      <td>0.922296</td>\n",
       "      <td>-0.357369</td>\n",
       "      <td>0.318880</td>\n",
       "      <td>-0.622116</td>\n",
       "      <td>-0.347890</td>\n",
       "      <td>-1.047847</td>\n",
       "      <td>0.992797</td>\n",
       "      <td>-1.165418</td>\n",
       "      <td>1.330339</td>\n",
       "      <td>0.454057</td>\n",
       "      <td>-1.672222</td>\n",
       "      <td>0.0</td>\n",
       "      <td>1.004978</td>\n",
       "    </tr>\n",
       "    <tr>\n",
       "      <th>3</th>\n",
       "      <td>-1.109231</td>\n",
       "      <td>-0.481111</td>\n",
       "      <td>-1.677246</td>\n",
       "      <td>1.440592</td>\n",
       "      <td>-0.128771</td>\n",
       "      <td>1.814490</td>\n",
       "      <td>-0.170770</td>\n",
       "      <td>-0.710384</td>\n",
       "      <td>-2.366947</td>\n",
       "      <td>-1.051886</td>\n",
       "      <td>-1.007866</td>\n",
       "      <td>-1.040258</td>\n",
       "      <td>0.0</td>\n",
       "      <td>-0.590681</td>\n",
       "    </tr>\n",
       "    <tr>\n",
       "      <th>4</th>\n",
       "      <td>-2.201600</td>\n",
       "      <td>1.471456</td>\n",
       "      <td>-0.357369</td>\n",
       "      <td>1.055003</td>\n",
       "      <td>-0.537057</td>\n",
       "      <td>0.684155</td>\n",
       "      <td>-1.486385</td>\n",
       "      <td>-1.561975</td>\n",
       "      <td>-2.366947</td>\n",
       "      <td>0.536264</td>\n",
       "      <td>-0.423096</td>\n",
       "      <td>-0.724275</td>\n",
       "      <td>0.0</td>\n",
       "      <td>-0.590681</td>\n",
       "    </tr>\n",
       "    <tr>\n",
       "      <th>...</th>\n",
       "      <td>...</td>\n",
       "      <td>...</td>\n",
       "      <td>...</td>\n",
       "      <td>...</td>\n",
       "      <td>...</td>\n",
       "      <td>...</td>\n",
       "      <td>...</td>\n",
       "      <td>...</td>\n",
       "      <td>...</td>\n",
       "      <td>...</td>\n",
       "      <td>...</td>\n",
       "      <td>...</td>\n",
       "      <td>...</td>\n",
       "      <td>...</td>\n",
       "    </tr>\n",
       "    <tr>\n",
       "      <th>14085</th>\n",
       "      <td>-0.563047</td>\n",
       "      <td>-0.908235</td>\n",
       "      <td>0.962508</td>\n",
       "      <td>-1.959597</td>\n",
       "      <td>0.126407</td>\n",
       "      <td>-1.330790</td>\n",
       "      <td>-0.390039</td>\n",
       "      <td>0.425070</td>\n",
       "      <td>0.379406</td>\n",
       "      <td>-1.505643</td>\n",
       "      <td>0.746442</td>\n",
       "      <td>-0.092311</td>\n",
       "      <td>0.0</td>\n",
       "      <td>0.313526</td>\n",
       "    </tr>\n",
       "    <tr>\n",
       "      <th>14086</th>\n",
       "      <td>1.075507</td>\n",
       "      <td>0.068048</td>\n",
       "      <td>0.962508</td>\n",
       "      <td>-0.101762</td>\n",
       "      <td>-0.843271</td>\n",
       "      <td>0.684155</td>\n",
       "      <td>-1.376751</td>\n",
       "      <td>0.992797</td>\n",
       "      <td>-1.050986</td>\n",
       "      <td>1.330339</td>\n",
       "      <td>-0.423096</td>\n",
       "      <td>-0.724275</td>\n",
       "      <td>0.0</td>\n",
       "      <td>1.217733</td>\n",
       "    </tr>\n",
       "    <tr>\n",
       "      <th>14087</th>\n",
       "      <td>-0.563047</td>\n",
       "      <td>0.312119</td>\n",
       "      <td>-1.677246</td>\n",
       "      <td>1.335431</td>\n",
       "      <td>2.388989</td>\n",
       "      <td>1.568765</td>\n",
       "      <td>-1.157482</td>\n",
       "      <td>-0.994248</td>\n",
       "      <td>0.951563</td>\n",
       "      <td>-0.938446</td>\n",
       "      <td>-0.130712</td>\n",
       "      <td>1.329609</td>\n",
       "      <td>0.0</td>\n",
       "      <td>0.366715</td>\n",
       "    </tr>\n",
       "    <tr>\n",
       "      <th>14088</th>\n",
       "      <td>-0.563047</td>\n",
       "      <td>2.203668</td>\n",
       "      <td>-0.357369</td>\n",
       "      <td>1.265324</td>\n",
       "      <td>-0.639128</td>\n",
       "      <td>1.519620</td>\n",
       "      <td>0.267768</td>\n",
       "      <td>-0.142657</td>\n",
       "      <td>-2.023653</td>\n",
       "      <td>-1.505643</td>\n",
       "      <td>-1.300250</td>\n",
       "      <td>-1.040258</td>\n",
       "      <td>0.0</td>\n",
       "      <td>0.313526</td>\n",
       "    </tr>\n",
       "    <tr>\n",
       "      <th>14089</th>\n",
       "      <td>-0.563047</td>\n",
       "      <td>0.861279</td>\n",
       "      <td>0.962508</td>\n",
       "      <td>-0.066709</td>\n",
       "      <td>-0.877294</td>\n",
       "      <td>0.094415</td>\n",
       "      <td>-0.061135</td>\n",
       "      <td>1.560525</td>\n",
       "      <td>-1.165418</td>\n",
       "      <td>1.330339</td>\n",
       "      <td>0.746442</td>\n",
       "      <td>-0.408293</td>\n",
       "      <td>0.0</td>\n",
       "      <td>0.100772</td>\n",
       "    </tr>\n",
       "  </tbody>\n",
       "</table>\n",
       "<p>14090 rows × 14 columns</p>\n",
       "</div>"
      ],
      "text/plain": [
       "         rating  runtime_in_minutes  tomatometer_status  tomatometer_rating  \\\n",
       "0     -0.563047           -1.213324            0.962508           -0.347137   \n",
       "1      1.075507           -0.786200           -1.677246            0.949843   \n",
       "2      1.075507            0.922296           -0.357369            0.318880   \n",
       "3     -1.109231           -0.481111           -1.677246            1.440592   \n",
       "4     -2.201600            1.471456           -0.357369            1.055003   \n",
       "...         ...                 ...                 ...                 ...   \n",
       "14085 -0.563047           -0.908235            0.962508           -1.959597   \n",
       "14086  1.075507            0.068048            0.962508           -0.101762   \n",
       "14087 -0.563047            0.312119           -1.677246            1.335431   \n",
       "14088 -0.563047            2.203668           -0.357369            1.265324   \n",
       "14089 -0.563047            0.861279            0.962508           -0.066709   \n",
       "\n",
       "       tomatometer_count  audience_rating  release_date  release_month  \\\n",
       "0               1.453335        -0.347890     -0.280405      -1.278112   \n",
       "1               1.385287         0.192705      1.693018      -0.710384   \n",
       "2              -0.622116        -0.347890     -1.047847       0.992797   \n",
       "3              -0.128771         1.814490     -0.170770      -0.710384   \n",
       "4              -0.537057         0.684155     -1.486385      -1.561975   \n",
       "...                  ...              ...           ...            ...   \n",
       "14085           0.126407        -1.330790     -0.390039       0.425070   \n",
       "14086          -0.843271         0.684155     -1.376751       0.992797   \n",
       "14087           2.388989         1.568765     -1.157482      -0.994248   \n",
       "14088          -0.639128         1.519620      0.267768      -0.142657   \n",
       "14089          -0.877294         0.094415     -0.061135       1.560525   \n",
       "\n",
       "       release_year  Streaming_date  Streaming_month  Streaming_year  \\\n",
       "0          0.608269        1.557218        -0.130712        0.381662   \n",
       "1          0.608269        0.422825         1.038826        0.381662   \n",
       "2         -1.165418        1.330339         0.454057       -1.672222   \n",
       "3         -2.366947       -1.051886        -1.007866       -1.040258   \n",
       "4         -2.366947        0.536264        -0.423096       -0.724275   \n",
       "...             ...             ...              ...             ...   \n",
       "14085      0.379406       -1.505643         0.746442       -0.092311   \n",
       "14086     -1.050986        1.330339        -0.423096       -0.724275   \n",
       "14087      0.951563       -0.938446        -0.130712        1.329609   \n",
       "14088     -2.023653       -1.505643        -1.300250       -1.040258   \n",
       "14089     -1.165418        1.330339         0.746442       -0.408293   \n",
       "\n",
       "       no.of.directors  most_cast  \n",
       "0                  0.0   2.653826  \n",
       "1                  0.0  -1.016190  \n",
       "2                  0.0   1.004978  \n",
       "3                  0.0  -0.590681  \n",
       "4                  0.0  -0.590681  \n",
       "...                ...        ...  \n",
       "14085              0.0   0.313526  \n",
       "14086              0.0   1.217733  \n",
       "14087              0.0   0.366715  \n",
       "14088              0.0   0.313526  \n",
       "14089              0.0   0.100772  \n",
       "\n",
       "[14090 rows x 14 columns]"
      ]
     },
     "execution_count": 36,
     "metadata": {},
     "output_type": "execute_result"
    }
   ],
   "source": [
    "from sklearn.preprocessing import StandardScaler\n",
    "\n",
    "scaler = StandardScaler()\n",
    "x = scaler.fit_transform(feature_to_scale)\n",
    "scaled_features_df = pd.DataFrame(x, columns=feature_to_scale.columns)\n",
    "scaled_features_df\n"
   ]
  },
  {
   "cell_type": "markdown",
   "id": "61708e3b",
   "metadata": {},
   "source": [
    "### Defining Features and Target"
   ]
  },
  {
   "cell_type": "code",
   "execution_count": 37,
   "id": "2da8df80",
   "metadata": {},
   "outputs": [],
   "source": [
    "X = scaled_features_df.drop(columns=['audience_rating'])\n",
    "y = scaled_features_df['audience_rating']"
   ]
  },
  {
   "cell_type": "markdown",
   "id": "5fd47b06",
   "metadata": {},
   "source": [
    "#### Feature Selection "
   ]
  },
  {
   "cell_type": "code",
   "execution_count": 38,
   "id": "d0519a5e",
   "metadata": {},
   "outputs": [
    {
     "data": {
      "text/html": [
       "<style>#sk-container-id-1 {color: black;}#sk-container-id-1 pre{padding: 0;}#sk-container-id-1 div.sk-toggleable {background-color: white;}#sk-container-id-1 label.sk-toggleable__label {cursor: pointer;display: block;width: 100%;margin-bottom: 0;padding: 0.3em;box-sizing: border-box;text-align: center;}#sk-container-id-1 label.sk-toggleable__label-arrow:before {content: \"▸\";float: left;margin-right: 0.25em;color: #696969;}#sk-container-id-1 label.sk-toggleable__label-arrow:hover:before {color: black;}#sk-container-id-1 div.sk-estimator:hover label.sk-toggleable__label-arrow:before {color: black;}#sk-container-id-1 div.sk-toggleable__content {max-height: 0;max-width: 0;overflow: hidden;text-align: left;background-color: #f0f8ff;}#sk-container-id-1 div.sk-toggleable__content pre {margin: 0.2em;color: black;border-radius: 0.25em;background-color: #f0f8ff;}#sk-container-id-1 input.sk-toggleable__control:checked~div.sk-toggleable__content {max-height: 200px;max-width: 100%;overflow: auto;}#sk-container-id-1 input.sk-toggleable__control:checked~label.sk-toggleable__label-arrow:before {content: \"▾\";}#sk-container-id-1 div.sk-estimator input.sk-toggleable__control:checked~label.sk-toggleable__label {background-color: #d4ebff;}#sk-container-id-1 div.sk-label input.sk-toggleable__control:checked~label.sk-toggleable__label {background-color: #d4ebff;}#sk-container-id-1 input.sk-hidden--visually {border: 0;clip: rect(1px 1px 1px 1px);clip: rect(1px, 1px, 1px, 1px);height: 1px;margin: -1px;overflow: hidden;padding: 0;position: absolute;width: 1px;}#sk-container-id-1 div.sk-estimator {font-family: monospace;background-color: #f0f8ff;border: 1px dotted black;border-radius: 0.25em;box-sizing: border-box;margin-bottom: 0.5em;}#sk-container-id-1 div.sk-estimator:hover {background-color: #d4ebff;}#sk-container-id-1 div.sk-parallel-item::after {content: \"\";width: 100%;border-bottom: 1px solid gray;flex-grow: 1;}#sk-container-id-1 div.sk-label:hover label.sk-toggleable__label {background-color: #d4ebff;}#sk-container-id-1 div.sk-serial::before {content: \"\";position: absolute;border-left: 1px solid gray;box-sizing: border-box;top: 0;bottom: 0;left: 50%;z-index: 0;}#sk-container-id-1 div.sk-serial {display: flex;flex-direction: column;align-items: center;background-color: white;padding-right: 0.2em;padding-left: 0.2em;position: relative;}#sk-container-id-1 div.sk-item {position: relative;z-index: 1;}#sk-container-id-1 div.sk-parallel {display: flex;align-items: stretch;justify-content: center;background-color: white;position: relative;}#sk-container-id-1 div.sk-item::before, #sk-container-id-1 div.sk-parallel-item::before {content: \"\";position: absolute;border-left: 1px solid gray;box-sizing: border-box;top: 0;bottom: 0;left: 50%;z-index: -1;}#sk-container-id-1 div.sk-parallel-item {display: flex;flex-direction: column;z-index: 1;position: relative;background-color: white;}#sk-container-id-1 div.sk-parallel-item:first-child::after {align-self: flex-end;width: 50%;}#sk-container-id-1 div.sk-parallel-item:last-child::after {align-self: flex-start;width: 50%;}#sk-container-id-1 div.sk-parallel-item:only-child::after {width: 0;}#sk-container-id-1 div.sk-dashed-wrapped {border: 1px dashed gray;margin: 0 0.4em 0.5em 0.4em;box-sizing: border-box;padding-bottom: 0.4em;background-color: white;}#sk-container-id-1 div.sk-label label {font-family: monospace;font-weight: bold;display: inline-block;line-height: 1.2em;}#sk-container-id-1 div.sk-label-container {text-align: center;}#sk-container-id-1 div.sk-container {/* jupyter's `normalize.less` sets `[hidden] { display: none; }` but bootstrap.min.css set `[hidden] { display: none !important; }` so we also need the `!important` here to be able to override the default hidden behavior on the sphinx rendered scikit-learn.org. See: https://github.com/scikit-learn/scikit-learn/issues/21755 */display: inline-block !important;position: relative;}#sk-container-id-1 div.sk-text-repr-fallback {display: none;}</style><div id=\"sk-container-id-1\" class=\"sk-top-container\"><div class=\"sk-text-repr-fallback\"><pre>ExtraTreesRegressor()</pre><b>In a Jupyter environment, please rerun this cell to show the HTML representation or trust the notebook. <br />On GitHub, the HTML representation is unable to render, please try loading this page with nbviewer.org.</b></div><div class=\"sk-container\" hidden><div class=\"sk-item\"><div class=\"sk-estimator sk-toggleable\"><input class=\"sk-toggleable__control sk-hidden--visually\" id=\"sk-estimator-id-1\" type=\"checkbox\" checked><label for=\"sk-estimator-id-1\" class=\"sk-toggleable__label sk-toggleable__label-arrow\">ExtraTreesRegressor</label><div class=\"sk-toggleable__content\"><pre>ExtraTreesRegressor()</pre></div></div></div></div></div>"
      ],
      "text/plain": [
       "ExtraTreesRegressor()"
      ]
     },
     "execution_count": 38,
     "metadata": {},
     "output_type": "execute_result"
    }
   ],
   "source": [
    "from sklearn.ensemble import ExtraTreesRegressor\n",
    "selection = ExtraTreesRegressor()\n",
    "selection.fit(X, y)"
   ]
  },
  {
   "cell_type": "code",
   "execution_count": 39,
   "id": "79e85587",
   "metadata": {},
   "outputs": [
    {
     "name": "stdout",
     "output_type": "stream",
     "text": [
      "[0.03624039 0.07303047 0.23338598 0.26645015 0.0530523  0.04364679\n",
      " 0.04320402 0.05448424 0.04602338 0.04417349 0.05796394 0.\n",
      " 0.04834484]\n"
     ]
    }
   ],
   "source": [
    "print(selection.feature_importances_)"
   ]
  },
  {
   "cell_type": "code",
   "execution_count": 40,
   "id": "8cdb47c0",
   "metadata": {},
   "outputs": [
    {
     "data": {
      "image/png": "[encoded data removed]",
      "text/plain": [
       "<Figure size 1200x800 with 1 Axes>"
      ]
     },
     "metadata": {},
     "output_type": "display_data"
    }
   ],
   "source": [
    "plt.figure(figsize = (12,8))\n",
    "feat_importances = pd.Series(selection.feature_importances_, index=X.columns)\n",
    "feat_importances.nlargest(20).plot(kind='barh')\n",
    "plt.show()"
   ]
  },
  {
   "cell_type": "code",
   "execution_count": 41,
   "id": "d77cedeb",
   "metadata": {},
   "outputs": [],
   "source": [
    "# dropping No.of.directors for less feature importance to the model\n",
    "X = scaled_features_df.drop(columns=['audience_rating','no.of.directors'])\n",
    "y = scaled_features_df['audience_rating']"
   ]
  },
  {
   "cell_type": "code",
   "execution_count": 42,
   "id": "0c02799c",
   "metadata": {},
   "outputs": [
    {
     "data": {
      "text/html": [
       "<div>\n",
       "<style scoped>\n",
       "    .dataframe tbody tr th:only-of-type {\n",
       "        vertical-align: middle;\n",
       "    }\n",
       "\n",
       "    .dataframe tbody tr th {\n",
       "        vertical-align: top;\n",
       "    }\n",
       "\n",
       "    .dataframe thead th {\n",
       "        text-align: right;\n",
       "    }\n",
       "</style>\n",
       "<table border=\"1\" class=\"dataframe\">\n",
       "  <thead>\n",
       "    <tr style=\"text-align: right;\">\n",
       "      <th></th>\n",
       "      <th>rating</th>\n",
       "      <th>runtime_in_minutes</th>\n",
       "      <th>tomatometer_status</th>\n",
       "      <th>tomatometer_rating</th>\n",
       "      <th>tomatometer_count</th>\n",
       "      <th>release_date</th>\n",
       "      <th>release_month</th>\n",
       "      <th>release_year</th>\n",
       "      <th>Streaming_date</th>\n",
       "      <th>Streaming_month</th>\n",
       "      <th>Streaming_year</th>\n",
       "      <th>most_cast</th>\n",
       "    </tr>\n",
       "  </thead>\n",
       "  <tbody>\n",
       "    <tr>\n",
       "      <th>0</th>\n",
       "      <td>-0.563047</td>\n",
       "      <td>-1.213324</td>\n",
       "      <td>0.962508</td>\n",
       "      <td>-0.347137</td>\n",
       "      <td>1.453335</td>\n",
       "      <td>-0.280405</td>\n",
       "      <td>-1.278112</td>\n",
       "      <td>0.608269</td>\n",
       "      <td>1.557218</td>\n",
       "      <td>-0.130712</td>\n",
       "      <td>0.381662</td>\n",
       "      <td>2.653826</td>\n",
       "    </tr>\n",
       "    <tr>\n",
       "      <th>1</th>\n",
       "      <td>1.075507</td>\n",
       "      <td>-0.786200</td>\n",
       "      <td>-1.677246</td>\n",
       "      <td>0.949843</td>\n",
       "      <td>1.385287</td>\n",
       "      <td>1.693018</td>\n",
       "      <td>-0.710384</td>\n",
       "      <td>0.608269</td>\n",
       "      <td>0.422825</td>\n",
       "      <td>1.038826</td>\n",
       "      <td>0.381662</td>\n",
       "      <td>-1.016190</td>\n",
       "    </tr>\n",
       "    <tr>\n",
       "      <th>2</th>\n",
       "      <td>1.075507</td>\n",
       "      <td>0.922296</td>\n",
       "      <td>-0.357369</td>\n",
       "      <td>0.318880</td>\n",
       "      <td>-0.622116</td>\n",
       "      <td>-1.047847</td>\n",
       "      <td>0.992797</td>\n",
       "      <td>-1.165418</td>\n",
       "      <td>1.330339</td>\n",
       "      <td>0.454057</td>\n",
       "      <td>-1.672222</td>\n",
       "      <td>1.004978</td>\n",
       "    </tr>\n",
       "    <tr>\n",
       "      <th>3</th>\n",
       "      <td>-1.109231</td>\n",
       "      <td>-0.481111</td>\n",
       "      <td>-1.677246</td>\n",
       "      <td>1.440592</td>\n",
       "      <td>-0.128771</td>\n",
       "      <td>-0.170770</td>\n",
       "      <td>-0.710384</td>\n",
       "      <td>-2.366947</td>\n",
       "      <td>-1.051886</td>\n",
       "      <td>-1.007866</td>\n",
       "      <td>-1.040258</td>\n",
       "      <td>-0.590681</td>\n",
       "    </tr>\n",
       "    <tr>\n",
       "      <th>4</th>\n",
       "      <td>-2.201600</td>\n",
       "      <td>1.471456</td>\n",
       "      <td>-0.357369</td>\n",
       "      <td>1.055003</td>\n",
       "      <td>-0.537057</td>\n",
       "      <td>-1.486385</td>\n",
       "      <td>-1.561975</td>\n",
       "      <td>-2.366947</td>\n",
       "      <td>0.536264</td>\n",
       "      <td>-0.423096</td>\n",
       "      <td>-0.724275</td>\n",
       "      <td>-0.590681</td>\n",
       "    </tr>\n",
       "    <tr>\n",
       "      <th>...</th>\n",
       "      <td>...</td>\n",
       "      <td>...</td>\n",
       "      <td>...</td>\n",
       "      <td>...</td>\n",
       "      <td>...</td>\n",
       "      <td>...</td>\n",
       "      <td>...</td>\n",
       "      <td>...</td>\n",
       "      <td>...</td>\n",
       "      <td>...</td>\n",
       "      <td>...</td>\n",
       "      <td>...</td>\n",
       "    </tr>\n",
       "    <tr>\n",
       "      <th>14085</th>\n",
       "      <td>-0.563047</td>\n",
       "      <td>-0.908235</td>\n",
       "      <td>0.962508</td>\n",
       "      <td>-1.959597</td>\n",
       "      <td>0.126407</td>\n",
       "      <td>-0.390039</td>\n",
       "      <td>0.425070</td>\n",
       "      <td>0.379406</td>\n",
       "      <td>-1.505643</td>\n",
       "      <td>0.746442</td>\n",
       "      <td>-0.092311</td>\n",
       "      <td>0.313526</td>\n",
       "    </tr>\n",
       "    <tr>\n",
       "      <th>14086</th>\n",
       "      <td>1.075507</td>\n",
       "      <td>0.068048</td>\n",
       "      <td>0.962508</td>\n",
       "      <td>-0.101762</td>\n",
       "      <td>-0.843271</td>\n",
       "      <td>-1.376751</td>\n",
       "      <td>0.992797</td>\n",
       "      <td>-1.050986</td>\n",
       "      <td>1.330339</td>\n",
       "      <td>-0.423096</td>\n",
       "      <td>-0.724275</td>\n",
       "      <td>1.217733</td>\n",
       "    </tr>\n",
       "    <tr>\n",
       "      <th>14087</th>\n",
       "      <td>-0.563047</td>\n",
       "      <td>0.312119</td>\n",
       "      <td>-1.677246</td>\n",
       "      <td>1.335431</td>\n",
       "      <td>2.388989</td>\n",
       "      <td>-1.157482</td>\n",
       "      <td>-0.994248</td>\n",
       "      <td>0.951563</td>\n",
       "      <td>-0.938446</td>\n",
       "      <td>-0.130712</td>\n",
       "      <td>1.329609</td>\n",
       "      <td>0.366715</td>\n",
       "    </tr>\n",
       "    <tr>\n",
       "      <th>14088</th>\n",
       "      <td>-0.563047</td>\n",
       "      <td>2.203668</td>\n",
       "      <td>-0.357369</td>\n",
       "      <td>1.265324</td>\n",
       "      <td>-0.639128</td>\n",
       "      <td>0.267768</td>\n",
       "      <td>-0.142657</td>\n",
       "      <td>-2.023653</td>\n",
       "      <td>-1.505643</td>\n",
       "      <td>-1.300250</td>\n",
       "      <td>-1.040258</td>\n",
       "      <td>0.313526</td>\n",
       "    </tr>\n",
       "    <tr>\n",
       "      <th>14089</th>\n",
       "      <td>-0.563047</td>\n",
       "      <td>0.861279</td>\n",
       "      <td>0.962508</td>\n",
       "      <td>-0.066709</td>\n",
       "      <td>-0.877294</td>\n",
       "      <td>-0.061135</td>\n",
       "      <td>1.560525</td>\n",
       "      <td>-1.165418</td>\n",
       "      <td>1.330339</td>\n",
       "      <td>0.746442</td>\n",
       "      <td>-0.408293</td>\n",
       "      <td>0.100772</td>\n",
       "    </tr>\n",
       "  </tbody>\n",
       "</table>\n",
       "<p>14090 rows × 12 columns</p>\n",
       "</div>"
      ],
      "text/plain": [
       "         rating  runtime_in_minutes  tomatometer_status  tomatometer_rating  \\\n",
       "0     -0.563047           -1.213324            0.962508           -0.347137   \n",
       "1      1.075507           -0.786200           -1.677246            0.949843   \n",
       "2      1.075507            0.922296           -0.357369            0.318880   \n",
       "3     -1.109231           -0.481111           -1.677246            1.440592   \n",
       "4     -2.201600            1.471456           -0.357369            1.055003   \n",
       "...         ...                 ...                 ...                 ...   \n",
       "14085 -0.563047           -0.908235            0.962508           -1.959597   \n",
       "14086  1.075507            0.068048            0.962508           -0.101762   \n",
       "14087 -0.563047            0.312119           -1.677246            1.335431   \n",
       "14088 -0.563047            2.203668           -0.357369            1.265324   \n",
       "14089 -0.563047            0.861279            0.962508           -0.066709   \n",
       "\n",
       "       tomatometer_count  release_date  release_month  release_year  \\\n",
       "0               1.453335     -0.280405      -1.278112      0.608269   \n",
       "1               1.385287      1.693018      -0.710384      0.608269   \n",
       "2              -0.622116     -1.047847       0.992797     -1.165418   \n",
       "3              -0.128771     -0.170770      -0.710384     -2.366947   \n",
       "4              -0.537057     -1.486385      -1.561975     -2.366947   \n",
       "...                  ...           ...            ...           ...   \n",
       "14085           0.126407     -0.390039       0.425070      0.379406   \n",
       "14086          -0.843271     -1.376751       0.992797     -1.050986   \n",
       "14087           2.388989     -1.157482      -0.994248      0.951563   \n",
       "14088          -0.639128      0.267768      -0.142657     -2.023653   \n",
       "14089          -0.877294     -0.061135       1.560525     -1.165418   \n",
       "\n",
       "       Streaming_date  Streaming_month  Streaming_year  most_cast  \n",
       "0            1.557218        -0.130712        0.381662   2.653826  \n",
       "1            0.422825         1.038826        0.381662  -1.016190  \n",
       "2            1.330339         0.454057       -1.672222   1.004978  \n",
       "3           -1.051886        -1.007866       -1.040258  -0.590681  \n",
       "4            0.536264        -0.423096       -0.724275  -0.590681  \n",
       "...               ...              ...             ...        ...  \n",
       "14085       -1.505643         0.746442       -0.092311   0.313526  \n",
       "14086        1.330339        -0.423096       -0.724275   1.217733  \n",
       "14087       -0.938446        -0.130712        1.329609   0.366715  \n",
       "14088       -1.505643        -1.300250       -1.040258   0.313526  \n",
       "14089        1.330339         0.746442       -0.408293   0.100772  \n",
       "\n",
       "[14090 rows x 12 columns]"
      ]
     },
     "execution_count": 42,
     "metadata": {},
     "output_type": "execute_result"
    }
   ],
   "source": [
    "X"
   ]
  },
  {
   "cell_type": "markdown",
   "id": "b671a3bb",
   "metadata": {},
   "source": [
    "### Splitting the Data for Train / Test"
   ]
  },
  {
   "cell_type": "code",
   "execution_count": 43,
   "id": "442e5f9f",
   "metadata": {},
   "outputs": [],
   "source": [
    "\n",
    "from sklearn.model_selection import train_test_split\n",
    "X_train, X_test, y_train, y_test = train_test_split(X, y, test_size=0.3, random_state=42)\n"
   ]
  },
  {
   "cell_type": "markdown",
   "id": "23d5b179",
   "metadata": {},
   "source": [
    "### 1.RandomForestRegressor"
   ]
  },
  {
   "cell_type": "code",
   "execution_count": 44,
   "id": "27aca26f",
   "metadata": {},
   "outputs": [
    {
     "data": {
      "text/html": [
       "<style>#sk-container-id-2 {color: black;}#sk-container-id-2 pre{padding: 0;}#sk-container-id-2 div.sk-toggleable {background-color: white;}#sk-container-id-2 label.sk-toggleable__label {cursor: pointer;display: block;width: 100%;margin-bottom: 0;padding: 0.3em;box-sizing: border-box;text-align: center;}#sk-container-id-2 label.sk-toggleable__label-arrow:before {content: \"▸\";float: left;margin-right: 0.25em;color: #696969;}#sk-container-id-2 label.sk-toggleable__label-arrow:hover:before {color: black;}#sk-container-id-2 div.sk-estimator:hover label.sk-toggleable__label-arrow:before {color: black;}#sk-container-id-2 div.sk-toggleable__content {max-height: 0;max-width: 0;overflow: hidden;text-align: left;background-color: #f0f8ff;}#sk-container-id-2 div.sk-toggleable__content pre {margin: 0.2em;color: black;border-radius: 0.25em;background-color: #f0f8ff;}#sk-container-id-2 input.sk-toggleable__control:checked~div.sk-toggleable__content {max-height: 200px;max-width: 100%;overflow: auto;}#sk-container-id-2 input.sk-toggleable__control:checked~label.sk-toggleable__label-arrow:before {content: \"▾\";}#sk-container-id-2 div.sk-estimator input.sk-toggleable__control:checked~label.sk-toggleable__label {background-color: #d4ebff;}#sk-container-id-2 div.sk-label input.sk-toggleable__control:checked~label.sk-toggleable__label {background-color: #d4ebff;}#sk-container-id-2 input.sk-hidden--visually {border: 0;clip: rect(1px 1px 1px 1px);clip: rect(1px, 1px, 1px, 1px);height: 1px;margin: -1px;overflow: hidden;padding: 0;position: absolute;width: 1px;}#sk-container-id-2 div.sk-estimator {font-family: monospace;background-color: #f0f8ff;border: 1px dotted black;border-radius: 0.25em;box-sizing: border-box;margin-bottom: 0.5em;}#sk-container-id-2 div.sk-estimator:hover {background-color: #d4ebff;}#sk-container-id-2 div.sk-parallel-item::after {content: \"\";width: 100%;border-bottom: 1px solid gray;flex-grow: 1;}#sk-container-id-2 div.sk-label:hover label.sk-toggleable__label {background-color: #d4ebff;}#sk-container-id-2 div.sk-serial::before {content: \"\";position: absolute;border-left: 1px solid gray;box-sizing: border-box;top: 0;bottom: 0;left: 50%;z-index: 0;}#sk-container-id-2 div.sk-serial {display: flex;flex-direction: column;align-items: center;background-color: white;padding-right: 0.2em;padding-left: 0.2em;position: relative;}#sk-container-id-2 div.sk-item {position: relative;z-index: 1;}#sk-container-id-2 div.sk-parallel {display: flex;align-items: stretch;justify-content: center;background-color: white;position: relative;}#sk-container-id-2 div.sk-item::before, #sk-container-id-2 div.sk-parallel-item::before {content: \"\";position: absolute;border-left: 1px solid gray;box-sizing: border-box;top: 0;bottom: 0;left: 50%;z-index: -1;}#sk-container-id-2 div.sk-parallel-item {display: flex;flex-direction: column;z-index: 1;position: relative;background-color: white;}#sk-container-id-2 div.sk-parallel-item:first-child::after {align-self: flex-end;width: 50%;}#sk-container-id-2 div.sk-parallel-item:last-child::after {align-self: flex-start;width: 50%;}#sk-container-id-2 div.sk-parallel-item:only-child::after {width: 0;}#sk-container-id-2 div.sk-dashed-wrapped {border: 1px dashed gray;margin: 0 0.4em 0.5em 0.4em;box-sizing: border-box;padding-bottom: 0.4em;background-color: white;}#sk-container-id-2 div.sk-label label {font-family: monospace;font-weight: bold;display: inline-block;line-height: 1.2em;}#sk-container-id-2 div.sk-label-container {text-align: center;}#sk-container-id-2 div.sk-container {/* jupyter's `normalize.less` sets `[hidden] { display: none; }` but bootstrap.min.css set `[hidden] { display: none !important; }` so we also need the `!important` here to be able to override the default hidden behavior on the sphinx rendered scikit-learn.org. See: https://github.com/scikit-learn/scikit-learn/issues/21755 */display: inline-block !important;position: relative;}#sk-container-id-2 div.sk-text-repr-fallback {display: none;}</style><div id=\"sk-container-id-2\" class=\"sk-top-container\"><div class=\"sk-text-repr-fallback\"><pre>RandomForestRegressor()</pre><b>In a Jupyter environment, please rerun this cell to show the HTML representation or trust the notebook. <br />On GitHub, the HTML representation is unable to render, please try loading this page with nbviewer.org.</b></div><div class=\"sk-container\" hidden><div class=\"sk-item\"><div class=\"sk-estimator sk-toggleable\"><input class=\"sk-toggleable__control sk-hidden--visually\" id=\"sk-estimator-id-2\" type=\"checkbox\" checked><label for=\"sk-estimator-id-2\" class=\"sk-toggleable__label sk-toggleable__label-arrow\">RandomForestRegressor</label><div class=\"sk-toggleable__content\"><pre>RandomForestRegressor()</pre></div></div></div></div></div>"
      ],
      "text/plain": [
       "RandomForestRegressor()"
      ]
     },
     "execution_count": 44,
     "metadata": {},
     "output_type": "execute_result"
    }
   ],
   "source": [
    "from sklearn.ensemble import RandomForestRegressor\n",
    "reg_rf = RandomForestRegressor()\n",
    "reg_rf.fit(X_train, y_train)"
   ]
  },
  {
   "cell_type": "code",
   "execution_count": 45,
   "id": "dfcf301e",
   "metadata": {},
   "outputs": [],
   "source": [
    "y_pred = reg_rf.predict(X_test)"
   ]
  },
  {
   "cell_type": "code",
   "execution_count": 46,
   "id": "1a7c6bd5",
   "metadata": {},
   "outputs": [],
   "source": [
    "from sklearn import metrics"
   ]
  },
  {
   "cell_type": "code",
   "execution_count": 47,
   "id": "253327bd",
   "metadata": {},
   "outputs": [
    {
     "name": "stdout",
     "output_type": "stream",
     "text": [
      "R2_score: 0.5311445819707181\n",
      "MAE: 0.5370031734245372\n",
      "MSE: 0.4662506089459082\n",
      "RMSE: 0.6828254600891125\n"
     ]
    }
   ],
   "source": [
    "print('R2_score:', metrics.r2_score(y_test, y_pred))\n",
    "print('MAE:', metrics.mean_absolute_error(y_test, y_pred))\n",
    "print('MSE:', metrics.mean_squared_error(y_test, y_pred))\n",
    "print('RMSE:', np.sqrt(metrics.mean_squared_error(y_test, y_pred)))"
   ]
  },
  {
   "cell_type": "markdown",
   "id": "40346fc0",
   "metadata": {},
   "source": [
    "### Hyper parameter Tuning - RandomForestRegressor"
   ]
  },
  {
   "cell_type": "code",
   "execution_count": 48,
   "id": "b02e57a5",
   "metadata": {},
   "outputs": [],
   "source": [
    "from sklearn.model_selection import RandomizedSearchCV\n",
    "from scipy.stats import uniform, randint"
   ]
  },
  {
   "cell_type": "code",
   "execution_count": 49,
   "id": "a273925e",
   "metadata": {},
   "outputs": [],
   "source": [
    "rf_model = RandomForestRegressor(random_state=42)"
   ]
  },
  {
   "cell_type": "code",
   "execution_count": 50,
   "id": "65be71b4",
   "metadata": {},
   "outputs": [],
   "source": [
    "# Creating Random Grid for RandomForestRegressor\n",
    "param_dist = {\n",
    "    'n_estimators': randint(50, 500),  \n",
    "    'max_depth': randint(3, 20),  \n",
    "    'min_samples_split': randint(2, 20),  \n",
    "    'min_samples_leaf': randint(1, 20), \n",
    "    'max_features': ['auto', 'sqrt', 'log2', None], \n",
    "    'bootstrap': [True, False],  \n",
    "}"
   ]
  },
  {
   "cell_type": "code",
   "execution_count": 51,
   "id": "4813810b",
   "metadata": {},
   "outputs": [],
   "source": [
    "rf_random = RandomizedSearchCV(\n",
    "    estimator=rf_model,\n",
    "    param_distributions=param_dist,\n",
    "    n_iter=100,  \n",
    "    scoring='neg_mean_squared_error', \n",
    "    n_jobs=-1, \n",
    "    cv=5,  \n",
    "    verbose=2,\n",
    "    random_state=42\n",
    ")"
   ]
  },
  {
   "cell_type": "code",
   "execution_count": 52,
   "id": "2624751d",
   "metadata": {},
   "outputs": [
    {
     "name": "stdout",
     "output_type": "stream",
     "text": [
      "Fitting 5 folds for each of 100 candidates, totalling 500 fits\n"
     ]
    },
    {
     "data": {
      "text/html": [
       "<style>#sk-container-id-3 {color: black;}#sk-container-id-3 pre{padding: 0;}#sk-container-id-3 div.sk-toggleable {background-color: white;}#sk-container-id-3 label.sk-toggleable__label {cursor: pointer;display: block;width: 100%;margin-bottom: 0;padding: 0.3em;box-sizing: border-box;text-align: center;}#sk-container-id-3 label.sk-toggleable__label-arrow:before {content: \"▸\";float: left;margin-right: 0.25em;color: #696969;}#sk-container-id-3 label.sk-toggleable__label-arrow:hover:before {color: black;}#sk-container-id-3 div.sk-estimator:hover label.sk-toggleable__label-arrow:before {color: black;}#sk-container-id-3 div.sk-toggleable__content {max-height: 0;max-width: 0;overflow: hidden;text-align: left;background-color: #f0f8ff;}#sk-container-id-3 div.sk-toggleable__content pre {margin: 0.2em;color: black;border-radius: 0.25em;background-color: #f0f8ff;}#sk-container-id-3 input.sk-toggleable__control:checked~div.sk-toggleable__content {max-height: 200px;max-width: 100%;overflow: auto;}#sk-container-id-3 input.sk-toggleable__control:checked~label.sk-toggleable__label-arrow:before {content: \"▾\";}#sk-container-id-3 div.sk-estimator input.sk-toggleable__control:checked~label.sk-toggleable__label {background-color: #d4ebff;}#sk-container-id-3 div.sk-label input.sk-toggleable__control:checked~label.sk-toggleable__label {background-color: #d4ebff;}#sk-container-id-3 input.sk-hidden--visually {border: 0;clip: rect(1px 1px 1px 1px);clip: rect(1px, 1px, 1px, 1px);height: 1px;margin: -1px;overflow: hidden;padding: 0;position: absolute;width: 1px;}#sk-container-id-3 div.sk-estimator {font-family: monospace;background-color: #f0f8ff;border: 1px dotted black;border-radius: 0.25em;box-sizing: border-box;margin-bottom: 0.5em;}#sk-container-id-3 div.sk-estimator:hover {background-color: #d4ebff;}#sk-container-id-3 div.sk-parallel-item::after {content: \"\";width: 100%;border-bottom: 1px solid gray;flex-grow: 1;}#sk-container-id-3 div.sk-label:hover label.sk-toggleable__label {background-color: #d4ebff;}#sk-container-id-3 div.sk-serial::before {content: \"\";position: absolute;border-left: 1px solid gray;box-sizing: border-box;top: 0;bottom: 0;left: 50%;z-index: 0;}#sk-container-id-3 div.sk-serial {display: flex;flex-direction: column;align-items: center;background-color: white;padding-right: 0.2em;padding-left: 0.2em;position: relative;}#sk-container-id-3 div.sk-item {position: relative;z-index: 1;}#sk-container-id-3 div.sk-parallel {display: flex;align-items: stretch;justify-content: center;background-color: white;position: relative;}#sk-container-id-3 div.sk-item::before, #sk-container-id-3 div.sk-parallel-item::before {content: \"\";position: absolute;border-left: 1px solid gray;box-sizing: border-box;top: 0;bottom: 0;left: 50%;z-index: -1;}#sk-container-id-3 div.sk-parallel-item {display: flex;flex-direction: column;z-index: 1;position: relative;background-color: white;}#sk-container-id-3 div.sk-parallel-item:first-child::after {align-self: flex-end;width: 50%;}#sk-container-id-3 div.sk-parallel-item:last-child::after {align-self: flex-start;width: 50%;}#sk-container-id-3 div.sk-parallel-item:only-child::after {width: 0;}#sk-container-id-3 div.sk-dashed-wrapped {border: 1px dashed gray;margin: 0 0.4em 0.5em 0.4em;box-sizing: border-box;padding-bottom: 0.4em;background-color: white;}#sk-container-id-3 div.sk-label label {font-family: monospace;font-weight: bold;display: inline-block;line-height: 1.2em;}#sk-container-id-3 div.sk-label-container {text-align: center;}#sk-container-id-3 div.sk-container {/* jupyter's `normalize.less` sets `[hidden] { display: none; }` but bootstrap.min.css set `[hidden] { display: none !important; }` so we also need the `!important` here to be able to override the default hidden behavior on the sphinx rendered scikit-learn.org. See: https://github.com/scikit-learn/scikit-learn/issues/21755 */display: inline-block !important;position: relative;}#sk-container-id-3 div.sk-text-repr-fallback {display: none;}</style><div id=\"sk-container-id-3\" class=\"sk-top-container\"><div class=\"sk-text-repr-fallback\"><pre>RandomizedSearchCV(cv=5, estimator=RandomForestRegressor(random_state=42),\n",
       "                   n_iter=100, n_jobs=-1,\n",
       "                   param_distributions={&#x27;bootstrap&#x27;: [True, False],\n",
       "                                        &#x27;max_depth&#x27;: &lt;scipy.stats._distn_infrastructure.rv_discrete_frozen object at 0x00000239368502D0&gt;,\n",
       "                                        &#x27;max_features&#x27;: [&#x27;auto&#x27;, &#x27;sqrt&#x27;, &#x27;log2&#x27;,\n",
       "                                                         None],\n",
       "                                        &#x27;min_samples_leaf&#x27;: &lt;scipy.stats._distn_infrastructure.rv_discrete_frozen object at 0x000002393685E890&gt;,\n",
       "                                        &#x27;min_samples_split&#x27;: &lt;scipy.stats._distn_infrastructure.rv_discrete_frozen object at 0x000002393685D750&gt;,\n",
       "                                        &#x27;n_estimators&#x27;: &lt;scipy.stats._distn_infrastructure.rv_discrete_frozen object at 0x0000023936850950&gt;},\n",
       "                   random_state=42, scoring=&#x27;neg_mean_squared_error&#x27;,\n",
       "                   verbose=2)</pre><b>In a Jupyter environment, please rerun this cell to show the HTML representation or trust the notebook. <br />On GitHub, the HTML representation is unable to render, please try loading this page with nbviewer.org.</b></div><div class=\"sk-container\" hidden><div class=\"sk-item sk-dashed-wrapped\"><div class=\"sk-label-container\"><div class=\"sk-label sk-toggleable\"><input class=\"sk-toggleable__control sk-hidden--visually\" id=\"sk-estimator-id-3\" type=\"checkbox\" ><label for=\"sk-estimator-id-3\" class=\"sk-toggleable__label sk-toggleable__label-arrow\">RandomizedSearchCV</label><div class=\"sk-toggleable__content\"><pre>RandomizedSearchCV(cv=5, estimator=RandomForestRegressor(random_state=42),\n",
       "                   n_iter=100, n_jobs=-1,\n",
       "                   param_distributions={&#x27;bootstrap&#x27;: [True, False],\n",
       "                                        &#x27;max_depth&#x27;: &lt;scipy.stats._distn_infrastructure.rv_discrete_frozen object at 0x00000239368502D0&gt;,\n",
       "                                        &#x27;max_features&#x27;: [&#x27;auto&#x27;, &#x27;sqrt&#x27;, &#x27;log2&#x27;,\n",
       "                                                         None],\n",
       "                                        &#x27;min_samples_leaf&#x27;: &lt;scipy.stats._distn_infrastructure.rv_discrete_frozen object at 0x000002393685E890&gt;,\n",
       "                                        &#x27;min_samples_split&#x27;: &lt;scipy.stats._distn_infrastructure.rv_discrete_frozen object at 0x000002393685D750&gt;,\n",
       "                                        &#x27;n_estimators&#x27;: &lt;scipy.stats._distn_infrastructure.rv_discrete_frozen object at 0x0000023936850950&gt;},\n",
       "                   random_state=42, scoring=&#x27;neg_mean_squared_error&#x27;,\n",
       "                   verbose=2)</pre></div></div></div><div class=\"sk-parallel\"><div class=\"sk-parallel-item\"><div class=\"sk-item\"><div class=\"sk-label-container\"><div class=\"sk-label sk-toggleable\"><input class=\"sk-toggleable__control sk-hidden--visually\" id=\"sk-estimator-id-4\" type=\"checkbox\" ><label for=\"sk-estimator-id-4\" class=\"sk-toggleable__label sk-toggleable__label-arrow\">estimator: RandomForestRegressor</label><div class=\"sk-toggleable__content\"><pre>RandomForestRegressor(random_state=42)</pre></div></div></div><div class=\"sk-serial\"><div class=\"sk-item\"><div class=\"sk-estimator sk-toggleable\"><input class=\"sk-toggleable__control sk-hidden--visually\" id=\"sk-estimator-id-5\" type=\"checkbox\" ><label for=\"sk-estimator-id-5\" class=\"sk-toggleable__label sk-toggleable__label-arrow\">RandomForestRegressor</label><div class=\"sk-toggleable__content\"><pre>RandomForestRegressor(random_state=42)</pre></div></div></div></div></div></div></div></div></div></div>"
      ],
      "text/plain": [
       "RandomizedSearchCV(cv=5, estimator=RandomForestRegressor(random_state=42),\n",
       "                   n_iter=100, n_jobs=-1,\n",
       "                   param_distributions={'bootstrap': [True, False],\n",
       "                                        'max_depth': <scipy.stats._distn_infrastructure.rv_discrete_frozen object at 0x00000239368502D0>,\n",
       "                                        'max_features': ['auto', 'sqrt', 'log2',\n",
       "                                                         None],\n",
       "                                        'min_samples_leaf': <scipy.stats._distn_infrastructure.rv_discrete_frozen object at 0x000002393685E890>,\n",
       "                                        'min_samples_split': <scipy.stats._distn_infrastructure.rv_discrete_frozen object at 0x000002393685D750>,\n",
       "                                        'n_estimators': <scipy.stats._distn_infrastructure.rv_discrete_frozen object at 0x0000023936850950>},\n",
       "                   random_state=42, scoring='neg_mean_squared_error',\n",
       "                   verbose=2)"
      ]
     },
     "execution_count": 52,
     "metadata": {},
     "output_type": "execute_result"
    }
   ],
   "source": [
    "rf_random.fit(X_train,y_train)"
   ]
  },
  {
   "cell_type": "code",
   "execution_count": 53,
   "id": "e59fb001",
   "metadata": {},
   "outputs": [
    {
     "data": {
      "text/plain": [
       "{'bootstrap': True,\n",
       " 'max_depth': 12,\n",
       " 'max_features': 'log2',\n",
       " 'min_samples_leaf': 3,\n",
       " 'min_samples_split': 9,\n",
       " 'n_estimators': 223}"
      ]
     },
     "execution_count": 53,
     "metadata": {},
     "output_type": "execute_result"
    }
   ],
   "source": [
    "rf_random.best_params_"
   ]
  },
  {
   "cell_type": "code",
   "execution_count": 54,
   "id": "a92d824c",
   "metadata": {},
   "outputs": [],
   "source": [
    "RF_pred= rf_random.predict(X_test)"
   ]
  },
  {
   "cell_type": "code",
   "execution_count": 55,
   "id": "142e60e7",
   "metadata": {},
   "outputs": [
    {
     "name": "stdout",
     "output_type": "stream",
     "text": [
      "R2_score: 0.5488860553831391\n",
      "MAE: 0.530310900620397\n",
      "MSE: 0.44860770142250134\n",
      "RMSE: 0.6697818312125982\n"
     ]
    }
   ],
   "source": [
    "print('R2_score:', metrics.r2_score(y_test, RF_pred))\n",
    "print('MAE:', metrics.mean_absolute_error(y_test, RF_pred))\n",
    "print('MSE:', metrics.mean_squared_error(y_test, RF_pred))\n",
    "print('RMSE:', np.sqrt(metrics.mean_squared_error(y_test, RF_pred)))"
   ]
  },
  {
   "cell_type": "code",
   "execution_count": 56,
   "id": "e7245698",
   "metadata": {},
   "outputs": [
    {
     "name": "stdout",
     "output_type": "stream",
     "text": [
      "\u001b[1mAccuracy of Random Forest Regressor: 54.89%\u001b[0m\n"
     ]
    }
   ],
   "source": [
    "RF_score=metrics.r2_score(y_test, RF_pred)\n",
    "RF_accuracy =RF_score * 100\n",
    "\n",
    "print(f\"\\033[1mAccuracy of Random Forest Regressor: {RF_accuracy:.2f}%\\033[0m\")"
   ]
  },
  {
   "cell_type": "code",
   "execution_count": 57,
   "id": "22ece40e",
   "metadata": {},
   "outputs": [
    {
     "data": {
      "text/plain": [
       "array([-1.1961329 , -0.60246125,  1.077315  , ..., -0.05744315,\n",
       "        0.58488206, -0.47320989])"
      ]
     },
     "execution_count": 57,
     "metadata": {},
     "output_type": "execute_result"
    }
   ],
   "source": [
    "y_pred"
   ]
  },
  {
   "cell_type": "markdown",
   "id": "9d45aa3a",
   "metadata": {},
   "source": [
    "### 2.GradientBoostingRegressor"
   ]
  },
  {
   "cell_type": "code",
   "execution_count": 58,
   "id": "093f3203",
   "metadata": {},
   "outputs": [],
   "source": [
    "from sklearn.ensemble import GradientBoostingRegressor"
   ]
  },
  {
   "cell_type": "code",
   "execution_count": 59,
   "id": "93019aa2",
   "metadata": {},
   "outputs": [
    {
     "data": {
      "text/html": [
       "<style>#sk-container-id-4 {color: black;}#sk-container-id-4 pre{padding: 0;}#sk-container-id-4 div.sk-toggleable {background-color: white;}#sk-container-id-4 label.sk-toggleable__label {cursor: pointer;display: block;width: 100%;margin-bottom: 0;padding: 0.3em;box-sizing: border-box;text-align: center;}#sk-container-id-4 label.sk-toggleable__label-arrow:before {content: \"▸\";float: left;margin-right: 0.25em;color: #696969;}#sk-container-id-4 label.sk-toggleable__label-arrow:hover:before {color: black;}#sk-container-id-4 div.sk-estimator:hover label.sk-toggleable__label-arrow:before {color: black;}#sk-container-id-4 div.sk-toggleable__content {max-height: 0;max-width: 0;overflow: hidden;text-align: left;background-color: #f0f8ff;}#sk-container-id-4 div.sk-toggleable__content pre {margin: 0.2em;color: black;border-radius: 0.25em;background-color: #f0f8ff;}#sk-container-id-4 input.sk-toggleable__control:checked~div.sk-toggleable__content {max-height: 200px;max-width: 100%;overflow: auto;}#sk-container-id-4 input.sk-toggleable__control:checked~label.sk-toggleable__label-arrow:before {content: \"▾\";}#sk-container-id-4 div.sk-estimator input.sk-toggleable__control:checked~label.sk-toggleable__label {background-color: #d4ebff;}#sk-container-id-4 div.sk-label input.sk-toggleable__control:checked~label.sk-toggleable__label {background-color: #d4ebff;}#sk-container-id-4 input.sk-hidden--visually {border: 0;clip: rect(1px 1px 1px 1px);clip: rect(1px, 1px, 1px, 1px);height: 1px;margin: -1px;overflow: hidden;padding: 0;position: absolute;width: 1px;}#sk-container-id-4 div.sk-estimator {font-family: monospace;background-color: #f0f8ff;border: 1px dotted black;border-radius: 0.25em;box-sizing: border-box;margin-bottom: 0.5em;}#sk-container-id-4 div.sk-estimator:hover {background-color: #d4ebff;}#sk-container-id-4 div.sk-parallel-item::after {content: \"\";width: 100%;border-bottom: 1px solid gray;flex-grow: 1;}#sk-container-id-4 div.sk-label:hover label.sk-toggleable__label {background-color: #d4ebff;}#sk-container-id-4 div.sk-serial::before {content: \"\";position: absolute;border-left: 1px solid gray;box-sizing: border-box;top: 0;bottom: 0;left: 50%;z-index: 0;}#sk-container-id-4 div.sk-serial {display: flex;flex-direction: column;align-items: center;background-color: white;padding-right: 0.2em;padding-left: 0.2em;position: relative;}#sk-container-id-4 div.sk-item {position: relative;z-index: 1;}#sk-container-id-4 div.sk-parallel {display: flex;align-items: stretch;justify-content: center;background-color: white;position: relative;}#sk-container-id-4 div.sk-item::before, #sk-container-id-4 div.sk-parallel-item::before {content: \"\";position: absolute;border-left: 1px solid gray;box-sizing: border-box;top: 0;bottom: 0;left: 50%;z-index: -1;}#sk-container-id-4 div.sk-parallel-item {display: flex;flex-direction: column;z-index: 1;position: relative;background-color: white;}#sk-container-id-4 div.sk-parallel-item:first-child::after {align-self: flex-end;width: 50%;}#sk-container-id-4 div.sk-parallel-item:last-child::after {align-self: flex-start;width: 50%;}#sk-container-id-4 div.sk-parallel-item:only-child::after {width: 0;}#sk-container-id-4 div.sk-dashed-wrapped {border: 1px dashed gray;margin: 0 0.4em 0.5em 0.4em;box-sizing: border-box;padding-bottom: 0.4em;background-color: white;}#sk-container-id-4 div.sk-label label {font-family: monospace;font-weight: bold;display: inline-block;line-height: 1.2em;}#sk-container-id-4 div.sk-label-container {text-align: center;}#sk-container-id-4 div.sk-container {/* jupyter's `normalize.less` sets `[hidden] { display: none; }` but bootstrap.min.css set `[hidden] { display: none !important; }` so we also need the `!important` here to be able to override the default hidden behavior on the sphinx rendered scikit-learn.org. See: https://github.com/scikit-learn/scikit-learn/issues/21755 */display: inline-block !important;position: relative;}#sk-container-id-4 div.sk-text-repr-fallback {display: none;}</style><div id=\"sk-container-id-4\" class=\"sk-top-container\"><div class=\"sk-text-repr-fallback\"><pre>GradientBoostingRegressor()</pre><b>In a Jupyter environment, please rerun this cell to show the HTML representation or trust the notebook. <br />On GitHub, the HTML representation is unable to render, please try loading this page with nbviewer.org.</b></div><div class=\"sk-container\" hidden><div class=\"sk-item\"><div class=\"sk-estimator sk-toggleable\"><input class=\"sk-toggleable__control sk-hidden--visually\" id=\"sk-estimator-id-6\" type=\"checkbox\" checked><label for=\"sk-estimator-id-6\" class=\"sk-toggleable__label sk-toggleable__label-arrow\">GradientBoostingRegressor</label><div class=\"sk-toggleable__content\"><pre>GradientBoostingRegressor()</pre></div></div></div></div></div>"
      ],
      "text/plain": [
       "GradientBoostingRegressor()"
      ]
     },
     "execution_count": 59,
     "metadata": {},
     "output_type": "execute_result"
    }
   ],
   "source": [
    "gb = GradientBoostingRegressor()\n",
    "gb.fit(X_train,y_train)"
   ]
  },
  {
   "cell_type": "code",
   "execution_count": 60,
   "id": "88ca88cb",
   "metadata": {},
   "outputs": [],
   "source": [
    "y_pred2 = gb.predict(X_test)"
   ]
  },
  {
   "cell_type": "code",
   "execution_count": 61,
   "id": "912aae96",
   "metadata": {},
   "outputs": [
    {
     "name": "stdout",
     "output_type": "stream",
     "text": [
      "R2_score: 0.5517738831704784\n",
      "MAE: 0.524683388095103\n",
      "MSE: 0.4457359174724782\n",
      "RMSE: 0.6676345688117701\n"
     ]
    }
   ],
   "source": [
    "print('R2_score:', metrics.r2_score(y_test, y_pred2))\n",
    "print('MAE:', metrics.mean_absolute_error(y_test, y_pred2))\n",
    "print('MSE:', metrics.mean_squared_error(y_test, y_pred2))\n",
    "print('RMSE:', np.sqrt(metrics.mean_squared_error(y_test, y_pred2)))"
   ]
  },
  {
   "cell_type": "markdown",
   "id": "b4dbb56f",
   "metadata": {},
   "source": [
    "### Hyper Parameter Tuning -GradientBoostingRegressor"
   ]
  },
  {
   "cell_type": "code",
   "execution_count": 62,
   "id": "2d02ab86",
   "metadata": {},
   "outputs": [],
   "source": [
    "gbr_model = GradientBoostingRegressor(random_state=42)"
   ]
  },
  {
   "cell_type": "code",
   "execution_count": 63,
   "id": "23f47753",
   "metadata": {},
   "outputs": [],
   "source": [
    "\n",
    "param_dist = {\n",
    "    'n_estimators': randint(50, 500), \n",
    "    'max_depth': randint(3, 15),  \n",
    "    'learning_rate': uniform(0.01, 0.3), \n",
    "    'subsample': uniform(0.5, 0.5),  \n",
    "    'min_samples_split': randint(2, 20),  \n",
    "    'min_samples_leaf': randint(1, 20),  \n",
    "    'max_features': ['auto', 'sqrt', 'log2', None],  \n",
    "}"
   ]
  },
  {
   "cell_type": "code",
   "execution_count": 64,
   "id": "86c7b820",
   "metadata": {},
   "outputs": [],
   "source": [
    "random_search = RandomizedSearchCV(\n",
    "    estimator=gbr_model,\n",
    "    param_distributions=param_dist,\n",
    "    n_iter=100,  \n",
    "    scoring='neg_mean_squared_error',  \n",
    "    n_jobs=-1,  \n",
    "    cv=5,  \n",
    "    verbose=2,\n",
    "    random_state=42\n",
    ")"
   ]
  },
  {
   "cell_type": "code",
   "execution_count": 65,
   "id": "cb722ae6",
   "metadata": {},
   "outputs": [
    {
     "name": "stdout",
     "output_type": "stream",
     "text": [
      "Fitting 5 folds for each of 100 candidates, totalling 500 fits\n"
     ]
    },
    {
     "data": {
      "text/html": [
       "<style>#sk-container-id-5 {color: black;}#sk-container-id-5 pre{padding: 0;}#sk-container-id-5 div.sk-toggleable {background-color: white;}#sk-container-id-5 label.sk-toggleable__label {cursor: pointer;display: block;width: 100%;margin-bottom: 0;padding: 0.3em;box-sizing: border-box;text-align: center;}#sk-container-id-5 label.sk-toggleable__label-arrow:before {content: \"▸\";float: left;margin-right: 0.25em;color: #696969;}#sk-container-id-5 label.sk-toggleable__label-arrow:hover:before {color: black;}#sk-container-id-5 div.sk-estimator:hover label.sk-toggleable__label-arrow:before {color: black;}#sk-container-id-5 div.sk-toggleable__content {max-height: 0;max-width: 0;overflow: hidden;text-align: left;background-color: #f0f8ff;}#sk-container-id-5 div.sk-toggleable__content pre {margin: 0.2em;color: black;border-radius: 0.25em;background-color: #f0f8ff;}#sk-container-id-5 input.sk-toggleable__control:checked~div.sk-toggleable__content {max-height: 200px;max-width: 100%;overflow: auto;}#sk-container-id-5 input.sk-toggleable__control:checked~label.sk-toggleable__label-arrow:before {content: \"▾\";}#sk-container-id-5 div.sk-estimator input.sk-toggleable__control:checked~label.sk-toggleable__label {background-color: #d4ebff;}#sk-container-id-5 div.sk-label input.sk-toggleable__control:checked~label.sk-toggleable__label {background-color: #d4ebff;}#sk-container-id-5 input.sk-hidden--visually {border: 0;clip: rect(1px 1px 1px 1px);clip: rect(1px, 1px, 1px, 1px);height: 1px;margin: -1px;overflow: hidden;padding: 0;position: absolute;width: 1px;}#sk-container-id-5 div.sk-estimator {font-family: monospace;background-color: #f0f8ff;border: 1px dotted black;border-radius: 0.25em;box-sizing: border-box;margin-bottom: 0.5em;}#sk-container-id-5 div.sk-estimator:hover {background-color: #d4ebff;}#sk-container-id-5 div.sk-parallel-item::after {content: \"\";width: 100%;border-bottom: 1px solid gray;flex-grow: 1;}#sk-container-id-5 div.sk-label:hover label.sk-toggleable__label {background-color: #d4ebff;}#sk-container-id-5 div.sk-serial::before {content: \"\";position: absolute;border-left: 1px solid gray;box-sizing: border-box;top: 0;bottom: 0;left: 50%;z-index: 0;}#sk-container-id-5 div.sk-serial {display: flex;flex-direction: column;align-items: center;background-color: white;padding-right: 0.2em;padding-left: 0.2em;position: relative;}#sk-container-id-5 div.sk-item {position: relative;z-index: 1;}#sk-container-id-5 div.sk-parallel {display: flex;align-items: stretch;justify-content: center;background-color: white;position: relative;}#sk-container-id-5 div.sk-item::before, #sk-container-id-5 div.sk-parallel-item::before {content: \"\";position: absolute;border-left: 1px solid gray;box-sizing: border-box;top: 0;bottom: 0;left: 50%;z-index: -1;}#sk-container-id-5 div.sk-parallel-item {display: flex;flex-direction: column;z-index: 1;position: relative;background-color: white;}#sk-container-id-5 div.sk-parallel-item:first-child::after {align-self: flex-end;width: 50%;}#sk-container-id-5 div.sk-parallel-item:last-child::after {align-self: flex-start;width: 50%;}#sk-container-id-5 div.sk-parallel-item:only-child::after {width: 0;}#sk-container-id-5 div.sk-dashed-wrapped {border: 1px dashed gray;margin: 0 0.4em 0.5em 0.4em;box-sizing: border-box;padding-bottom: 0.4em;background-color: white;}#sk-container-id-5 div.sk-label label {font-family: monospace;font-weight: bold;display: inline-block;line-height: 1.2em;}#sk-container-id-5 div.sk-label-container {text-align: center;}#sk-container-id-5 div.sk-container {/* jupyter's `normalize.less` sets `[hidden] { display: none; }` but bootstrap.min.css set `[hidden] { display: none !important; }` so we also need the `!important` here to be able to override the default hidden behavior on the sphinx rendered scikit-learn.org. See: https://github.com/scikit-learn/scikit-learn/issues/21755 */display: inline-block !important;position: relative;}#sk-container-id-5 div.sk-text-repr-fallback {display: none;}</style><div id=\"sk-container-id-5\" class=\"sk-top-container\"><div class=\"sk-text-repr-fallback\"><pre>RandomizedSearchCV(cv=5, estimator=GradientBoostingRegressor(random_state=42),\n",
       "                   n_iter=100, n_jobs=-1,\n",
       "                   param_distributions={&#x27;learning_rate&#x27;: &lt;scipy.stats._distn_infrastructure.rv_continuous_frozen object at 0x00000239368D5910&gt;,\n",
       "                                        &#x27;max_depth&#x27;: &lt;scipy.stats._distn_infrastructure.rv_discrete_frozen object at 0x00000239368B59D0&gt;,\n",
       "                                        &#x27;max_features&#x27;: [&#x27;auto&#x27;, &#x27;sqrt&#x27;, &#x27;log2&#x27;,\n",
       "                                                         No...\n",
       "                                        &#x27;min_samples_split&#x27;: &lt;scipy.stats._distn_infrastructure.rv_discrete_frozen object at 0x00000239368D70D0&gt;,\n",
       "                                        &#x27;n_estimators&#x27;: &lt;scipy.stats._distn_infrastructure.rv_discrete_frozen object at 0x00000239368A7710&gt;,\n",
       "                                        &#x27;subsample&#x27;: &lt;scipy.stats._distn_infrastructure.rv_continuous_frozen object at 0x00000239368D55D0&gt;},\n",
       "                   random_state=42, scoring=&#x27;neg_mean_squared_error&#x27;,\n",
       "                   verbose=2)</pre><b>In a Jupyter environment, please rerun this cell to show the HTML representation or trust the notebook. <br />On GitHub, the HTML representation is unable to render, please try loading this page with nbviewer.org.</b></div><div class=\"sk-container\" hidden><div class=\"sk-item sk-dashed-wrapped\"><div class=\"sk-label-container\"><div class=\"sk-label sk-toggleable\"><input class=\"sk-toggleable__control sk-hidden--visually\" id=\"sk-estimator-id-7\" type=\"checkbox\" ><label for=\"sk-estimator-id-7\" class=\"sk-toggleable__label sk-toggleable__label-arrow\">RandomizedSearchCV</label><div class=\"sk-toggleable__content\"><pre>RandomizedSearchCV(cv=5, estimator=GradientBoostingRegressor(random_state=42),\n",
       "                   n_iter=100, n_jobs=-1,\n",
       "                   param_distributions={&#x27;learning_rate&#x27;: &lt;scipy.stats._distn_infrastructure.rv_continuous_frozen object at 0x00000239368D5910&gt;,\n",
       "                                        &#x27;max_depth&#x27;: &lt;scipy.stats._distn_infrastructure.rv_discrete_frozen object at 0x00000239368B59D0&gt;,\n",
       "                                        &#x27;max_features&#x27;: [&#x27;auto&#x27;, &#x27;sqrt&#x27;, &#x27;log2&#x27;,\n",
       "                                                         No...\n",
       "                                        &#x27;min_samples_split&#x27;: &lt;scipy.stats._distn_infrastructure.rv_discrete_frozen object at 0x00000239368D70D0&gt;,\n",
       "                                        &#x27;n_estimators&#x27;: &lt;scipy.stats._distn_infrastructure.rv_discrete_frozen object at 0x00000239368A7710&gt;,\n",
       "                                        &#x27;subsample&#x27;: &lt;scipy.stats._distn_infrastructure.rv_continuous_frozen object at 0x00000239368D55D0&gt;},\n",
       "                   random_state=42, scoring=&#x27;neg_mean_squared_error&#x27;,\n",
       "                   verbose=2)</pre></div></div></div><div class=\"sk-parallel\"><div class=\"sk-parallel-item\"><div class=\"sk-item\"><div class=\"sk-label-container\"><div class=\"sk-label sk-toggleable\"><input class=\"sk-toggleable__control sk-hidden--visually\" id=\"sk-estimator-id-8\" type=\"checkbox\" ><label for=\"sk-estimator-id-8\" class=\"sk-toggleable__label sk-toggleable__label-arrow\">estimator: GradientBoostingRegressor</label><div class=\"sk-toggleable__content\"><pre>GradientBoostingRegressor(random_state=42)</pre></div></div></div><div class=\"sk-serial\"><div class=\"sk-item\"><div class=\"sk-estimator sk-toggleable\"><input class=\"sk-toggleable__control sk-hidden--visually\" id=\"sk-estimator-id-9\" type=\"checkbox\" ><label for=\"sk-estimator-id-9\" class=\"sk-toggleable__label sk-toggleable__label-arrow\">GradientBoostingRegressor</label><div class=\"sk-toggleable__content\"><pre>GradientBoostingRegressor(random_state=42)</pre></div></div></div></div></div></div></div></div></div></div>"
      ],
      "text/plain": [
       "RandomizedSearchCV(cv=5, estimator=GradientBoostingRegressor(random_state=42),\n",
       "                   n_iter=100, n_jobs=-1,\n",
       "                   param_distributions={'learning_rate': <scipy.stats._distn_infrastructure.rv_continuous_frozen object at 0x00000239368D5910>,\n",
       "                                        'max_depth': <scipy.stats._distn_infrastructure.rv_discrete_frozen object at 0x00000239368B59D0>,\n",
       "                                        'max_features': ['auto', 'sqrt', 'log2',\n",
       "                                                         No...\n",
       "                                        'min_samples_split': <scipy.stats._distn_infrastructure.rv_discrete_frozen object at 0x00000239368D70D0>,\n",
       "                                        'n_estimators': <scipy.stats._distn_infrastructure.rv_discrete_frozen object at 0x00000239368A7710>,\n",
       "                                        'subsample': <scipy.stats._distn_infrastructure.rv_continuous_frozen object at 0x00000239368D55D0>},\n",
       "                   random_state=42, scoring='neg_mean_squared_error',\n",
       "                   verbose=2)"
      ]
     },
     "execution_count": 65,
     "metadata": {},
     "output_type": "execute_result"
    }
   ],
   "source": [
    "random_search.fit(X_train, y_train)"
   ]
  },
  {
   "cell_type": "code",
   "execution_count": 66,
   "id": "dde02fd2",
   "metadata": {},
   "outputs": [
    {
     "data": {
      "text/plain": [
       "{'learning_rate': 0.0356042394981304,\n",
       " 'max_depth': 6,\n",
       " 'max_features': 'sqrt',\n",
       " 'min_samples_leaf': 15,\n",
       " 'min_samples_split': 4,\n",
       " 'n_estimators': 360,\n",
       " 'subsample': 0.5691765462089007}"
      ]
     },
     "execution_count": 66,
     "metadata": {},
     "output_type": "execute_result"
    }
   ],
   "source": [
    "random_search.best_params_"
   ]
  },
  {
   "cell_type": "code",
   "execution_count": 67,
   "id": "983459e2",
   "metadata": {},
   "outputs": [],
   "source": [
    "GB_pred= random_search.predict(X_test)"
   ]
  },
  {
   "cell_type": "code",
   "execution_count": 68,
   "id": "c722cd47",
   "metadata": {},
   "outputs": [
    {
     "name": "stdout",
     "output_type": "stream",
     "text": [
      "R2_score: 0.5533179888055211\n",
      "MAE: 0.5226464265521168\n",
      "MSE: 0.44420039038900855\n",
      "RMSE: 0.6664836009903083\n"
     ]
    }
   ],
   "source": [
    "print('R2_score:', metrics.r2_score(y_test, GB_pred))\n",
    "print('MAE:', metrics.mean_absolute_error(y_test, GB_pred))\n",
    "print('MSE:', metrics.mean_squared_error(y_test, GB_pred))\n",
    "print('RMSE:', np.sqrt(metrics.mean_squared_error(y_test, GB_pred)))"
   ]
  },
  {
   "cell_type": "code",
   "execution_count": 69,
   "id": "bfe334f3",
   "metadata": {},
   "outputs": [
    {
     "name": "stdout",
     "output_type": "stream",
     "text": [
      "\u001b[1mAccuracy of Gradient Boosting Regressor: 55.33%\u001b[0m\n"
     ]
    }
   ],
   "source": [
    "GB_score=metrics.r2_score(y_test, GB_pred)\n",
    "GB_accuracy =GB_score * 100\n",
    "\n",
    "print(f\"\\033[1mAccuracy of Gradient Boosting Regressor: {GB_accuracy:.2f}%\\033[0m\")"
   ]
  },
  {
   "cell_type": "markdown",
   "id": "35c2d5dc",
   "metadata": {},
   "source": [
    "### 3. XGB_Regressor"
   ]
  },
  {
   "cell_type": "code",
   "execution_count": 70,
   "id": "9633baca",
   "metadata": {},
   "outputs": [],
   "source": [
    "from xgboost import XGBRegressor"
   ]
  },
  {
   "cell_type": "code",
   "execution_count": 71,
   "id": "1f6d5d9d",
   "metadata": {},
   "outputs": [
    {
     "data": {
      "text/html": [
       "<style>#sk-container-id-6 {color: black;}#sk-container-id-6 pre{padding: 0;}#sk-container-id-6 div.sk-toggleable {background-color: white;}#sk-container-id-6 label.sk-toggleable__label {cursor: pointer;display: block;width: 100%;margin-bottom: 0;padding: 0.3em;box-sizing: border-box;text-align: center;}#sk-container-id-6 label.sk-toggleable__label-arrow:before {content: \"▸\";float: left;margin-right: 0.25em;color: #696969;}#sk-container-id-6 label.sk-toggleable__label-arrow:hover:before {color: black;}#sk-container-id-6 div.sk-estimator:hover label.sk-toggleable__label-arrow:before {color: black;}#sk-container-id-6 div.sk-toggleable__content {max-height: 0;max-width: 0;overflow: hidden;text-align: left;background-color: #f0f8ff;}#sk-container-id-6 div.sk-toggleable__content pre {margin: 0.2em;color: black;border-radius: 0.25em;background-color: #f0f8ff;}#sk-container-id-6 input.sk-toggleable__control:checked~div.sk-toggleable__content {max-height: 200px;max-width: 100%;overflow: auto;}#sk-container-id-6 input.sk-toggleable__control:checked~label.sk-toggleable__label-arrow:before {content: \"▾\";}#sk-container-id-6 div.sk-estimator input.sk-toggleable__control:checked~label.sk-toggleable__label {background-color: #d4ebff;}#sk-container-id-6 div.sk-label input.sk-toggleable__control:checked~label.sk-toggleable__label {background-color: #d4ebff;}#sk-container-id-6 input.sk-hidden--visually {border: 0;clip: rect(1px 1px 1px 1px);clip: rect(1px, 1px, 1px, 1px);height: 1px;margin: -1px;overflow: hidden;padding: 0;position: absolute;width: 1px;}#sk-container-id-6 div.sk-estimator {font-family: monospace;background-color: #f0f8ff;border: 1px dotted black;border-radius: 0.25em;box-sizing: border-box;margin-bottom: 0.5em;}#sk-container-id-6 div.sk-estimator:hover {background-color: #d4ebff;}#sk-container-id-6 div.sk-parallel-item::after {content: \"\";width: 100%;border-bottom: 1px solid gray;flex-grow: 1;}#sk-container-id-6 div.sk-label:hover label.sk-toggleable__label {background-color: #d4ebff;}#sk-container-id-6 div.sk-serial::before {content: \"\";position: absolute;border-left: 1px solid gray;box-sizing: border-box;top: 0;bottom: 0;left: 50%;z-index: 0;}#sk-container-id-6 div.sk-serial {display: flex;flex-direction: column;align-items: center;background-color: white;padding-right: 0.2em;padding-left: 0.2em;position: relative;}#sk-container-id-6 div.sk-item {position: relative;z-index: 1;}#sk-container-id-6 div.sk-parallel {display: flex;align-items: stretch;justify-content: center;background-color: white;position: relative;}#sk-container-id-6 div.sk-item::before, #sk-container-id-6 div.sk-parallel-item::before {content: \"\";position: absolute;border-left: 1px solid gray;box-sizing: border-box;top: 0;bottom: 0;left: 50%;z-index: -1;}#sk-container-id-6 div.sk-parallel-item {display: flex;flex-direction: column;z-index: 1;position: relative;background-color: white;}#sk-container-id-6 div.sk-parallel-item:first-child::after {align-self: flex-end;width: 50%;}#sk-container-id-6 div.sk-parallel-item:last-child::after {align-self: flex-start;width: 50%;}#sk-container-id-6 div.sk-parallel-item:only-child::after {width: 0;}#sk-container-id-6 div.sk-dashed-wrapped {border: 1px dashed gray;margin: 0 0.4em 0.5em 0.4em;box-sizing: border-box;padding-bottom: 0.4em;background-color: white;}#sk-container-id-6 div.sk-label label {font-family: monospace;font-weight: bold;display: inline-block;line-height: 1.2em;}#sk-container-id-6 div.sk-label-container {text-align: center;}#sk-container-id-6 div.sk-container {/* jupyter's `normalize.less` sets `[hidden] { display: none; }` but bootstrap.min.css set `[hidden] { display: none !important; }` so we also need the `!important` here to be able to override the default hidden behavior on the sphinx rendered scikit-learn.org. See: https://github.com/scikit-learn/scikit-learn/issues/21755 */display: inline-block !important;position: relative;}#sk-container-id-6 div.sk-text-repr-fallback {display: none;}</style><div id=\"sk-container-id-6\" class=\"sk-top-container\"><div class=\"sk-text-repr-fallback\"><pre>XGBRegressor(base_score=None, booster=None, callbacks=None,\n",
       "             colsample_bylevel=None, colsample_bynode=None,\n",
       "             colsample_bytree=None, device=None, early_stopping_rounds=None,\n",
       "             enable_categorical=False, eval_metric=None, feature_types=None,\n",
       "             gamma=None, grow_policy=None, importance_type=None,\n",
       "             interaction_constraints=None, learning_rate=None, max_bin=None,\n",
       "             max_cat_threshold=None, max_cat_to_onehot=None,\n",
       "             max_delta_step=None, max_depth=None, max_leaves=None,\n",
       "             min_child_weight=None, missing=nan, monotone_constraints=None,\n",
       "             multi_strategy=None, n_estimators=None, n_jobs=None,\n",
       "             num_parallel_tree=None, random_state=None, ...)</pre><b>In a Jupyter environment, please rerun this cell to show the HTML representation or trust the notebook. <br />On GitHub, the HTML representation is unable to render, please try loading this page with nbviewer.org.</b></div><div class=\"sk-container\" hidden><div class=\"sk-item\"><div class=\"sk-estimator sk-toggleable\"><input class=\"sk-toggleable__control sk-hidden--visually\" id=\"sk-estimator-id-10\" type=\"checkbox\" checked><label for=\"sk-estimator-id-10\" class=\"sk-toggleable__label sk-toggleable__label-arrow\">XGBRegressor</label><div class=\"sk-toggleable__content\"><pre>XGBRegressor(base_score=None, booster=None, callbacks=None,\n",
       "             colsample_bylevel=None, colsample_bynode=None,\n",
       "             colsample_bytree=None, device=None, early_stopping_rounds=None,\n",
       "             enable_categorical=False, eval_metric=None, feature_types=None,\n",
       "             gamma=None, grow_policy=None, importance_type=None,\n",
       "             interaction_constraints=None, learning_rate=None, max_bin=None,\n",
       "             max_cat_threshold=None, max_cat_to_onehot=None,\n",
       "             max_delta_step=None, max_depth=None, max_leaves=None,\n",
       "             min_child_weight=None, missing=nan, monotone_constraints=None,\n",
       "             multi_strategy=None, n_estimators=None, n_jobs=None,\n",
       "             num_parallel_tree=None, random_state=None, ...)</pre></div></div></div></div></div>"
      ],
      "text/plain": [
       "XGBRegressor(base_score=None, booster=None, callbacks=None,\n",
       "             colsample_bylevel=None, colsample_bynode=None,\n",
       "             colsample_bytree=None, device=None, early_stopping_rounds=None,\n",
       "             enable_categorical=False, eval_metric=None, feature_types=None,\n",
       "             gamma=None, grow_policy=None, importance_type=None,\n",
       "             interaction_constraints=None, learning_rate=None, max_bin=None,\n",
       "             max_cat_threshold=None, max_cat_to_onehot=None,\n",
       "             max_delta_step=None, max_depth=None, max_leaves=None,\n",
       "             min_child_weight=None, missing=nan, monotone_constraints=None,\n",
       "             multi_strategy=None, n_estimators=None, n_jobs=None,\n",
       "             num_parallel_tree=None, random_state=None, ...)"
      ]
     },
     "execution_count": 71,
     "metadata": {},
     "output_type": "execute_result"
    }
   ],
   "source": [
    "xgb = XGBRegressor()\n",
    "xgb.fit(X_train,y_train)"
   ]
  },
  {
   "cell_type": "code",
   "execution_count": 72,
   "id": "17c23fd3",
   "metadata": {},
   "outputs": [],
   "source": [
    "y_pred3 = xgb.predict(X_test)"
   ]
  },
  {
   "cell_type": "code",
   "execution_count": 73,
   "id": "16c8ce54",
   "metadata": {},
   "outputs": [
    {
     "name": "stdout",
     "output_type": "stream",
     "text": [
      "R2_score: 0.5101975264542206\n",
      "MAE: 0.5449503617084756\n",
      "MSE: 0.48708128939584766\n",
      "RMSE: 0.6979120928855207\n"
     ]
    }
   ],
   "source": [
    "print('R2_score:', metrics.r2_score(y_test, y_pred3))\n",
    "print('MAE:', metrics.mean_absolute_error(y_test, y_pred3))\n",
    "print('MSE:', metrics.mean_squared_error(y_test, y_pred3))\n",
    "print('RMSE:', np.sqrt(metrics.mean_squared_error(y_test, y_pred3)))"
   ]
  },
  {
   "cell_type": "markdown",
   "id": "799cf895",
   "metadata": {},
   "source": [
    "### Hyper Parameter Tuning -  XGB_Regressor"
   ]
  },
  {
   "cell_type": "code",
   "execution_count": 74,
   "id": "f8c763bd",
   "metadata": {},
   "outputs": [],
   "source": [
    "xgb_model = XGBRegressor(objective='reg:squarederror', random_state=42)"
   ]
  },
  {
   "cell_type": "code",
   "execution_count": 75,
   "id": "7cd0fc8c",
   "metadata": {},
   "outputs": [],
   "source": [
    "param_dist = {\n",
    "    'n_estimators': randint(50, 500), \n",
    "    'max_depth': randint(3, 15),  \n",
    "    'learning_rate': uniform(0.01, 0.3),  \n",
    "    'subsample': uniform(0.5, 0.5),  \n",
    "    'colsample_bytree': uniform(0.5, 0.5),  \n",
    "    'gamma': uniform(0, 1),  \n",
    "    'reg_alpha': uniform(0, 1),  \n",
    "    'reg_lambda': uniform(0, 1)  \n",
    "}"
   ]
  },
  {
   "cell_type": "code",
   "execution_count": 76,
   "id": "80742d05",
   "metadata": {},
   "outputs": [],
   "source": [
    "random_search = RandomizedSearchCV(\n",
    "    estimator=xgb_model,\n",
    "    param_distributions=param_dist,\n",
    "    n_iter=100,  \n",
    "    scoring='neg_mean_squared_error',  \n",
    "    n_jobs=-1,  \n",
    "    cv=5,  \n",
    "    verbose=2,\n",
    "    random_state=42\n",
    ")"
   ]
  },
  {
   "cell_type": "code",
   "execution_count": 77,
   "id": "e08e7311",
   "metadata": {},
   "outputs": [
    {
     "name": "stdout",
     "output_type": "stream",
     "text": [
      "Fitting 5 folds for each of 100 candidates, totalling 500 fits\n"
     ]
    },
    {
     "data": {
      "text/html": [
       "<style>#sk-container-id-7 {color: black;}#sk-container-id-7 pre{padding: 0;}#sk-container-id-7 div.sk-toggleable {background-color: white;}#sk-container-id-7 label.sk-toggleable__label {cursor: pointer;display: block;width: 100%;margin-bottom: 0;padding: 0.3em;box-sizing: border-box;text-align: center;}#sk-container-id-7 label.sk-toggleable__label-arrow:before {content: \"▸\";float: left;margin-right: 0.25em;color: #696969;}#sk-container-id-7 label.sk-toggleable__label-arrow:hover:before {color: black;}#sk-container-id-7 div.sk-estimator:hover label.sk-toggleable__label-arrow:before {color: black;}#sk-container-id-7 div.sk-toggleable__content {max-height: 0;max-width: 0;overflow: hidden;text-align: left;background-color: #f0f8ff;}#sk-container-id-7 div.sk-toggleable__content pre {margin: 0.2em;color: black;border-radius: 0.25em;background-color: #f0f8ff;}#sk-container-id-7 input.sk-toggleable__control:checked~div.sk-toggleable__content {max-height: 200px;max-width: 100%;overflow: auto;}#sk-container-id-7 input.sk-toggleable__control:checked~label.sk-toggleable__label-arrow:before {content: \"▾\";}#sk-container-id-7 div.sk-estimator input.sk-toggleable__control:checked~label.sk-toggleable__label {background-color: #d4ebff;}#sk-container-id-7 div.sk-label input.sk-toggleable__control:checked~label.sk-toggleable__label {background-color: #d4ebff;}#sk-container-id-7 input.sk-hidden--visually {border: 0;clip: rect(1px 1px 1px 1px);clip: rect(1px, 1px, 1px, 1px);height: 1px;margin: -1px;overflow: hidden;padding: 0;position: absolute;width: 1px;}#sk-container-id-7 div.sk-estimator {font-family: monospace;background-color: #f0f8ff;border: 1px dotted black;border-radius: 0.25em;box-sizing: border-box;margin-bottom: 0.5em;}#sk-container-id-7 div.sk-estimator:hover {background-color: #d4ebff;}#sk-container-id-7 div.sk-parallel-item::after {content: \"\";width: 100%;border-bottom: 1px solid gray;flex-grow: 1;}#sk-container-id-7 div.sk-label:hover label.sk-toggleable__label {background-color: #d4ebff;}#sk-container-id-7 div.sk-serial::before {content: \"\";position: absolute;border-left: 1px solid gray;box-sizing: border-box;top: 0;bottom: 0;left: 50%;z-index: 0;}#sk-container-id-7 div.sk-serial {display: flex;flex-direction: column;align-items: center;background-color: white;padding-right: 0.2em;padding-left: 0.2em;position: relative;}#sk-container-id-7 div.sk-item {position: relative;z-index: 1;}#sk-container-id-7 div.sk-parallel {display: flex;align-items: stretch;justify-content: center;background-color: white;position: relative;}#sk-container-id-7 div.sk-item::before, #sk-container-id-7 div.sk-parallel-item::before {content: \"\";position: absolute;border-left: 1px solid gray;box-sizing: border-box;top: 0;bottom: 0;left: 50%;z-index: -1;}#sk-container-id-7 div.sk-parallel-item {display: flex;flex-direction: column;z-index: 1;position: relative;background-color: white;}#sk-container-id-7 div.sk-parallel-item:first-child::after {align-self: flex-end;width: 50%;}#sk-container-id-7 div.sk-parallel-item:last-child::after {align-self: flex-start;width: 50%;}#sk-container-id-7 div.sk-parallel-item:only-child::after {width: 0;}#sk-container-id-7 div.sk-dashed-wrapped {border: 1px dashed gray;margin: 0 0.4em 0.5em 0.4em;box-sizing: border-box;padding-bottom: 0.4em;background-color: white;}#sk-container-id-7 div.sk-label label {font-family: monospace;font-weight: bold;display: inline-block;line-height: 1.2em;}#sk-container-id-7 div.sk-label-container {text-align: center;}#sk-container-id-7 div.sk-container {/* jupyter's `normalize.less` sets `[hidden] { display: none; }` but bootstrap.min.css set `[hidden] { display: none !important; }` so we also need the `!important` here to be able to override the default hidden behavior on the sphinx rendered scikit-learn.org. See: https://github.com/scikit-learn/scikit-learn/issues/21755 */display: inline-block !important;position: relative;}#sk-container-id-7 div.sk-text-repr-fallback {display: none;}</style><div id=\"sk-container-id-7\" class=\"sk-top-container\"><div class=\"sk-text-repr-fallback\"><pre>RandomizedSearchCV(cv=5,\n",
       "                   estimator=XGBRegressor(base_score=None, booster=None,\n",
       "                                          callbacks=None,\n",
       "                                          colsample_bylevel=None,\n",
       "                                          colsample_bynode=None,\n",
       "                                          colsample_bytree=None, device=None,\n",
       "                                          early_stopping_rounds=None,\n",
       "                                          enable_categorical=False,\n",
       "                                          eval_metric=None, feature_types=None,\n",
       "                                          gamma=None, grow_policy=None,\n",
       "                                          importance_type=None,\n",
       "                                          interaction_constraints=None,\n",
       "                                          learning_rate=...\n",
       "                                        &#x27;n_estimators&#x27;: &lt;scipy.stats._distn_infrastructure.rv_discrete_frozen object at 0x000002393689C050&gt;,\n",
       "                                        &#x27;reg_alpha&#x27;: &lt;scipy.stats._distn_infrastructure.rv_continuous_frozen object at 0x000002393560ED10&gt;,\n",
       "                                        &#x27;reg_lambda&#x27;: &lt;scipy.stats._distn_infrastructure.rv_continuous_frozen object at 0x000002393560F310&gt;,\n",
       "                                        &#x27;subsample&#x27;: &lt;scipy.stats._distn_infrastructure.rv_continuous_frozen object at 0x000002393689C550&gt;},\n",
       "                   random_state=42, scoring=&#x27;neg_mean_squared_error&#x27;,\n",
       "                   verbose=2)</pre><b>In a Jupyter environment, please rerun this cell to show the HTML representation or trust the notebook. <br />On GitHub, the HTML representation is unable to render, please try loading this page with nbviewer.org.</b></div><div class=\"sk-container\" hidden><div class=\"sk-item sk-dashed-wrapped\"><div class=\"sk-label-container\"><div class=\"sk-label sk-toggleable\"><input class=\"sk-toggleable__control sk-hidden--visually\" id=\"sk-estimator-id-11\" type=\"checkbox\" ><label for=\"sk-estimator-id-11\" class=\"sk-toggleable__label sk-toggleable__label-arrow\">RandomizedSearchCV</label><div class=\"sk-toggleable__content\"><pre>RandomizedSearchCV(cv=5,\n",
       "                   estimator=XGBRegressor(base_score=None, booster=None,\n",
       "                                          callbacks=None,\n",
       "                                          colsample_bylevel=None,\n",
       "                                          colsample_bynode=None,\n",
       "                                          colsample_bytree=None, device=None,\n",
       "                                          early_stopping_rounds=None,\n",
       "                                          enable_categorical=False,\n",
       "                                          eval_metric=None, feature_types=None,\n",
       "                                          gamma=None, grow_policy=None,\n",
       "                                          importance_type=None,\n",
       "                                          interaction_constraints=None,\n",
       "                                          learning_rate=...\n",
       "                                        &#x27;n_estimators&#x27;: &lt;scipy.stats._distn_infrastructure.rv_discrete_frozen object at 0x000002393689C050&gt;,\n",
       "                                        &#x27;reg_alpha&#x27;: &lt;scipy.stats._distn_infrastructure.rv_continuous_frozen object at 0x000002393560ED10&gt;,\n",
       "                                        &#x27;reg_lambda&#x27;: &lt;scipy.stats._distn_infrastructure.rv_continuous_frozen object at 0x000002393560F310&gt;,\n",
       "                                        &#x27;subsample&#x27;: &lt;scipy.stats._distn_infrastructure.rv_continuous_frozen object at 0x000002393689C550&gt;},\n",
       "                   random_state=42, scoring=&#x27;neg_mean_squared_error&#x27;,\n",
       "                   verbose=2)</pre></div></div></div><div class=\"sk-parallel\"><div class=\"sk-parallel-item\"><div class=\"sk-item\"><div class=\"sk-label-container\"><div class=\"sk-label sk-toggleable\"><input class=\"sk-toggleable__control sk-hidden--visually\" id=\"sk-estimator-id-12\" type=\"checkbox\" ><label for=\"sk-estimator-id-12\" class=\"sk-toggleable__label sk-toggleable__label-arrow\">estimator: XGBRegressor</label><div class=\"sk-toggleable__content\"><pre>XGBRegressor(base_score=None, booster=None, callbacks=None,\n",
       "             colsample_bylevel=None, colsample_bynode=None,\n",
       "             colsample_bytree=None, device=None, early_stopping_rounds=None,\n",
       "             enable_categorical=False, eval_metric=None, feature_types=None,\n",
       "             gamma=None, grow_policy=None, importance_type=None,\n",
       "             interaction_constraints=None, learning_rate=None, max_bin=None,\n",
       "             max_cat_threshold=None, max_cat_to_onehot=None,\n",
       "             max_delta_step=None, max_depth=None, max_leaves=None,\n",
       "             min_child_weight=None, missing=nan, monotone_constraints=None,\n",
       "             multi_strategy=None, n_estimators=None, n_jobs=None,\n",
       "             num_parallel_tree=None, random_state=42, ...)</pre></div></div></div><div class=\"sk-serial\"><div class=\"sk-item\"><div class=\"sk-estimator sk-toggleable\"><input class=\"sk-toggleable__control sk-hidden--visually\" id=\"sk-estimator-id-13\" type=\"checkbox\" ><label for=\"sk-estimator-id-13\" class=\"sk-toggleable__label sk-toggleable__label-arrow\">XGBRegressor</label><div class=\"sk-toggleable__content\"><pre>XGBRegressor(base_score=None, booster=None, callbacks=None,\n",
       "             colsample_bylevel=None, colsample_bynode=None,\n",
       "             colsample_bytree=None, device=None, early_stopping_rounds=None,\n",
       "             enable_categorical=False, eval_metric=None, feature_types=None,\n",
       "             gamma=None, grow_policy=None, importance_type=None,\n",
       "             interaction_constraints=None, learning_rate=None, max_bin=None,\n",
       "             max_cat_threshold=None, max_cat_to_onehot=None,\n",
       "             max_delta_step=None, max_depth=None, max_leaves=None,\n",
       "             min_child_weight=None, missing=nan, monotone_constraints=None,\n",
       "             multi_strategy=None, n_estimators=None, n_jobs=None,\n",
       "             num_parallel_tree=None, random_state=42, ...)</pre></div></div></div></div></div></div></div></div></div></div>"
      ],
      "text/plain": [
       "RandomizedSearchCV(cv=5,\n",
       "                   estimator=XGBRegressor(base_score=None, booster=None,\n",
       "                                          callbacks=None,\n",
       "                                          colsample_bylevel=None,\n",
       "                                          colsample_bynode=None,\n",
       "                                          colsample_bytree=None, device=None,\n",
       "                                          early_stopping_rounds=None,\n",
       "                                          enable_categorical=False,\n",
       "                                          eval_metric=None, feature_types=None,\n",
       "                                          gamma=None, grow_policy=None,\n",
       "                                          importance_type=None,\n",
       "                                          interaction_constraints=None,\n",
       "                                          learning_rate=...\n",
       "                                        'n_estimators': <scipy.stats._distn_infrastructure.rv_discrete_frozen object at 0x000002393689C050>,\n",
       "                                        'reg_alpha': <scipy.stats._distn_infrastructure.rv_continuous_frozen object at 0x000002393560ED10>,\n",
       "                                        'reg_lambda': <scipy.stats._distn_infrastructure.rv_continuous_frozen object at 0x000002393560F310>,\n",
       "                                        'subsample': <scipy.stats._distn_infrastructure.rv_continuous_frozen object at 0x000002393689C550>},\n",
       "                   random_state=42, scoring='neg_mean_squared_error',\n",
       "                   verbose=2)"
      ]
     },
     "execution_count": 77,
     "metadata": {},
     "output_type": "execute_result"
    }
   ],
   "source": [
    "random_search.fit(X_train, y_train)"
   ]
  },
  {
   "cell_type": "code",
   "execution_count": 78,
   "id": "80e23e07",
   "metadata": {},
   "outputs": [
    {
     "data": {
      "text/plain": [
       "{'colsample_bytree': 0.8754355338957487,\n",
       " 'gamma': 0.7545428740846823,\n",
       " 'learning_rate': 0.040937160650779784,\n",
       " 'max_depth': 3,\n",
       " 'n_estimators': 418,\n",
       " 'reg_alpha': 0.5052523724478571,\n",
       " 'reg_lambda': 0.8264574661077416,\n",
       " 'subsample': 0.6600248005153059}"
      ]
     },
     "execution_count": 78,
     "metadata": {},
     "output_type": "execute_result"
    }
   ],
   "source": [
    "random_search.best_params_"
   ]
  },
  {
   "cell_type": "code",
   "execution_count": 79,
   "id": "c0f6d3f8",
   "metadata": {},
   "outputs": [],
   "source": [
    "XGB_pred= random_search.predict(X_test)"
   ]
  },
  {
   "cell_type": "code",
   "execution_count": 80,
   "id": "08fc3711",
   "metadata": {},
   "outputs": [
    {
     "name": "stdout",
     "output_type": "stream",
     "text": [
      "R2_score: 0.5560491365244589\n",
      "MAE: 0.5217292576032507\n",
      "MSE: 0.44148441604359434\n",
      "RMSE: 0.6644429366345874\n"
     ]
    }
   ],
   "source": [
    "print('R2_score:', metrics.r2_score(y_test, XGB_pred))\n",
    "print('MAE:', metrics.mean_absolute_error(y_test, XGB_pred))\n",
    "print('MSE:', metrics.mean_squared_error(y_test, XGB_pred))\n",
    "print('RMSE:', np.sqrt(metrics.mean_squared_error(y_test,XGB_pred)))"
   ]
  },
  {
   "cell_type": "code",
   "execution_count": 81,
   "id": "08f9f698",
   "metadata": {},
   "outputs": [
    {
     "name": "stdout",
     "output_type": "stream",
     "text": [
      "\u001b[1mAccuracy of Xtreme Gradient Boosting Regressor: 55.33%\u001b[0m\n"
     ]
    }
   ],
   "source": [
    "XGB_score=metrics.r2_score(y_test, GB_pred)\n",
    "XGB_accuracy =XGB_score * 100\n",
    "\n",
    "print(f\"\\033[1mAccuracy of Xtreme Gradient Boosting Regressor: {XGB_accuracy:.2f}%\\033[0m\")"
   ]
  },
  {
   "cell_type": "markdown",
   "id": "e71969f2",
   "metadata": {},
   "source": [
    "### 4.SVM - Regressor"
   ]
  },
  {
   "cell_type": "code",
   "execution_count": 82,
   "id": "8ec3fd35",
   "metadata": {},
   "outputs": [],
   "source": [
    "from sklearn.svm import SVR\n",
    "\n",
    "\n",
    "svr_param_grid = {\n",
    "    'C': [0.1, 1, 10, 100],\n",
    "    'epsilon': [0.1, 0.2, 0.5],\n",
    "    'kernel': ['linear', 'rbf']\n",
    "}\n",
    "\n",
    "svr = SVR()"
   ]
  },
  {
   "cell_type": "markdown",
   "id": "e5d33d61",
   "metadata": {},
   "source": [
    "### HyperParameter Tuning - SVM_Regressor"
   ]
  },
  {
   "cell_type": "code",
   "execution_count": 83,
   "id": "9d1b22bb",
   "metadata": {},
   "outputs": [],
   "source": [
    "# Scale features\n",
    "scaler = StandardScaler()\n",
    "X_train_scaled = scaler.fit_transform(X_train)\n",
    "X_test_scaled = scaler.transform(X_test)"
   ]
  },
  {
   "cell_type": "code",
   "execution_count": 84,
   "id": "184c60b5",
   "metadata": {},
   "outputs": [],
   "source": [
    "svr_random = RandomizedSearchCV(\n",
    "    estimator=svr,\n",
    "    param_distributions=svr_param_grid,\n",
    "    n_iter=10,\n",
    "    scoring='r2',\n",
    "    cv=5,\n",
    "    n_jobs=-1,\n",
    "    verbose=2\n",
    ")"
   ]
  },
  {
   "cell_type": "code",
   "execution_count": 85,
   "id": "9d96334e",
   "metadata": {},
   "outputs": [
    {
     "name": "stdout",
     "output_type": "stream",
     "text": [
      "Fitting 5 folds for each of 10 candidates, totalling 50 fits\n",
      "Best Parameters for SVR: {'kernel': 'rbf', 'epsilon': 0.5, 'C': 1}\n"
     ]
    }
   ],
   "source": [
    "\n",
    "# Fit the model\n",
    "svr_random.fit(X_train_scaled, y_train)\n",
    "\n",
    "# Best parameters and predictions\n",
    "print(\"Best Parameters for SVR:\", svr_random.best_params_)\n",
    "SVR_pred = svr_random.best_estimator_.predict(X_test_scaled)\n"
   ]
  },
  {
   "cell_type": "code",
   "execution_count": 86,
   "id": "8dcef57e",
   "metadata": {},
   "outputs": [
    {
     "name": "stdout",
     "output_type": "stream",
     "text": [
      "R2_score: 0.5299604860398792\n",
      "MAE: 0.5357931017004772\n",
      "MSE: 0.46742812642267023\n",
      "RMSE: 0.6836871553734721\n"
     ]
    }
   ],
   "source": [
    "\n",
    "print('R2_score:', metrics.r2_score(y_test,SVR_pred))\n",
    "print('MAE:', metrics.mean_absolute_error(y_test, SVR_pred))\n",
    "print('MSE:', metrics.mean_squared_error(y_test, SVR_pred))\n",
    "print('RMSE:', np.sqrt(metrics.mean_squared_error(y_test,SVR_pred)))"
   ]
  },
  {
   "cell_type": "code",
   "execution_count": 87,
   "id": "23fb8aec",
   "metadata": {},
   "outputs": [
    {
     "name": "stdout",
     "output_type": "stream",
     "text": [
      "\u001b[1mAccuracy of Support Vector Regressor: 53.00%\u001b[0m\n"
     ]
    }
   ],
   "source": [
    "SVR_score=metrics.r2_score(y_test,SVR_pred)\n",
    "SVR_accuracy = SVR_score* 100\n",
    "\n",
    "# Print the percentage accuracy\n",
    "print(f\"\\033[1mAccuracy of Support Vector Regressor: {SVR_accuracy:.2f}%\\033[0m\")"
   ]
  },
  {
   "cell_type": "markdown",
   "id": "4f1215eb",
   "metadata": {},
   "source": [
    "### Comparing Accuracy of the Models"
   ]
  },
  {
   "cell_type": "code",
   "execution_count": 88,
   "id": "9ce4417a",
   "metadata": {},
   "outputs": [],
   "source": [
    "final_Accuracy= pd.DataFrame({'Models' :['RFG','GBR','XGBR','SVR'],\n",
    "             'Accuracy':[RF_accuracy,GB_accuracy,XGB_accuracy,SVR_accuracy]})"
   ]
  },
  {
   "cell_type": "code",
   "execution_count": 89,
   "id": "aaca89bd",
   "metadata": {},
   "outputs": [
    {
     "data": {
      "text/plain": [
       "<Axes: xlabel='Models', ylabel='Accuracy'>"
      ]
     },
     "execution_count": 89,
     "metadata": {},
     "output_type": "execute_result"
    },
    {
     "data": {
      "image/png": "[encoded data removed]",
      "text/plain": [
       "<Figure size 640x480 with 1 Axes>"
      ]
     },
     "metadata": {},
     "output_type": "display_data"
    }
   ],
   "source": [
    "sns.barplot(x=final_Accuracy['Models'], y=final_Accuracy['Accuracy'])"
   ]
  },
  {
   "cell_type": "markdown",
   "id": "dfa56954",
   "metadata": {},
   "source": [
    "#### Xtreme gradient boosting and Gradient Boosting  gaves a better accuracy 55.33% "
   ]
  },
  {
   "cell_type": "markdown",
   "id": "72c86cb4",
   "metadata": {},
   "source": [
    "### Conclusion\n",
    "\n",
    " - In this project, the models achieved a moderate accuracy of 55% The correlation analysis shows that tomatometer_status has a significant negative correlation. Other numerical features, like runtime_in_minutes and tomatometer_count, have weak positive correlations, while features like release_year and rating show weak negative correlations.\n",
    "\n",
    "- The presence of high-cardinality categorical data, such as movie_title, genre, and cast, poses a challenge as they introduce sparsity and complexity, especially with 7000+ unique values. These features may require advanced encoding techniques or feature reduction to contribute effectively to the model.\n",
    "\n",
    "- performance might have been limited by the data's structure, weak feature relationships, and the challenges of handling high-cardinality categorical variables.\n",
    "\n",
    "- Xtreme gradient boosting and Gradient Boosting  gaves a better accuracy 55.33% over another two models\n",
    "\n",
    "- This project highlights the potential of ensemble techniques.<span style = \"color: red; font-weight:bold\"> but the models achieved a moderate accuracy of 55% </span>  "
   ]
  },
  {
   "cell_type": "markdown",
   "id": "405aad0e",
   "metadata": {},
   "source": [
    "### Saving The Model"
   ]
  },
  {
   "cell_type": "code",
   "execution_count": 90,
   "id": "48349588",
   "metadata": {},
   "outputs": [],
   "source": [
    "import pickle\n",
    "# Saving the Model\n",
    "xgbr_final = random_search .best_estimator_\n",
    "filename = 'Audience_rating_reg_xgbr.pkl'\n",
    "pickle.dump(xgbr_final, open(filename, 'wb'))\n",
    "\n",
    "# Loading and Testing the Saved Model\n",
    "loaded_model = pickle.load(open('Audience_rating_reg_xgbr.pkl', 'rb'))\n",
    "y_prediction = loaded_model.predict(X_test)"
   ]
  },
  {
   "cell_type": "code",
   "execution_count": 91,
   "id": "1456e30c",
   "metadata": {},
   "outputs": [
    {
     "data": {
      "text/plain": [
       "array([-0.9832995 , -0.24835853,  0.98983157, ...,  0.15167986,\n",
       "        0.50252324, -0.610207  ], dtype=float32)"
      ]
     },
     "execution_count": 91,
     "metadata": {},
     "output_type": "execute_result"
    }
   ],
   "source": [
    "y_prediction"
   ]
  },
  {
   "cell_type": "code",
   "execution_count": null,
   "id": "bdc3e201",
   "metadata": {},
   "outputs": [],
   "source": []
  }
 ],
 "metadata": {
  "kernelspec": {
   "display_name": "Python 3 (ipykernel)",
   "language": "python",
   "name": "python3"
  },
  "language_info": {
   "codemirror_mode": {
    "name": "ipython",
    "version": 3
   },
   "file_extension": ".py",
   "mimetype": "text/x-python",
   "name": "python",
   "nbconvert_exporter": "python",
   "pygments_lexer": "ipython3",
   "version": "3.11.5"
  }
 },
 "nbformat": 4,
 "nbformat_minor": 5
}
